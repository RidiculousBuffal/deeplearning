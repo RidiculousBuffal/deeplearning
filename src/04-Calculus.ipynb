{
 "cells": [
  {
   "metadata": {},
   "cell_type": "markdown",
   "source": [
    "## 导数\n",
    "$$\n",
    "f\\prime\\left( x_0 \\right) =\\lim_{\\Delta x\\rightarrow 0} \\frac{\\Delta y}{\\Delta x}=\\lim_{\\Delta x\\rightarrow 0} \\frac{f\\left( x_0+\\Delta x \\right) -f\\left( x_0 \\right)}{\\Delta x}\n",
    "$$\n"
   ],
   "id": "f0057a9c16571bcf"
  },
  {
   "cell_type": "code",
   "id": "initial_id",
   "metadata": {
    "collapsed": true,
    "ExecuteTime": {
     "end_time": "2025-07-24T01:57:23.195620Z",
     "start_time": "2025-07-24T01:57:21.920899Z"
    }
   },
   "source": "%matplotlib inline",
   "outputs": [],
   "execution_count": 1
  },
  {
   "metadata": {
    "ExecuteTime": {
     "end_time": "2025-07-24T02:12:55.604065Z",
     "start_time": "2025-07-24T02:12:55.600486Z"
    }
   },
   "cell_type": "code",
   "source": [
    "import numpy as np\n",
    "from d2l import torch as d2l\n",
    "from matplotlib_inline import backend_inline"
   ],
   "id": "3d4bd62989381eca",
   "outputs": [],
   "execution_count": 8
  },
  {
   "metadata": {
    "ExecuteTime": {
     "end_time": "2025-07-24T02:05:20.437940Z",
     "start_time": "2025-07-24T02:05:20.434531Z"
    }
   },
   "cell_type": "code",
   "source": [
    "def f(x):\n",
    "    return 3 * (x ** 2) - 4 * x"
   ],
   "id": "5ca759f37f5f3c64",
   "outputs": [],
   "execution_count": 6
  },
  {
   "metadata": {
    "ExecuteTime": {
     "end_time": "2025-07-24T02:05:21.075278Z",
     "start_time": "2025-07-24T02:05:21.071280Z"
    }
   },
   "cell_type": "code",
   "source": [
    "def numerical_lim(fun, x, h):\n",
    "    return (fun(x + h) - fun(x)) / h\n",
    "\n",
    "\n",
    "h = 0.1\n",
    "for i in range(5):\n",
    "    print(f'h={h:.5f},numerical_limit={numerical_lim(f, 1, h)}')\n",
    "    h *= 0.1"
   ],
   "id": "84aa8e2037714f4",
   "outputs": [
    {
     "name": "stdout",
     "output_type": "stream",
     "text": [
      "h=0.10000,numerical_limit=2.3000000000000043\n",
      "h=0.01000,numerical_limit=2.029999999999976\n",
      "h=0.00100,numerical_limit=2.0029999999993104\n",
      "h=0.00010,numerical_limit=2.000299999997956\n",
      "h=0.00001,numerical_limit=2.0000300000155837\n"
     ]
    }
   ],
   "execution_count": 7
  },
  {
   "metadata": {},
   "cell_type": "markdown",
   "source": [
    "导数法则:\n",
    "$$\n",
    "\\begin{aligned}\n",
    "\\left( u\\pm v \\right) \\prime&=u\\prime\\pm v\\prime\n",
    "\\\\\n",
    "\\left( Cu \\right) \\prime&=Cu\\prime\n",
    "\\\\\n",
    "\\left( uv \\right) \\prime&=u\\prime v+uv\\prime\n",
    "\\\\\n",
    "\\left( \\frac{u}{v} \\right) \\prime&=\\frac{u\\prime v-uv\\prime}{v^2}\\left( v\\ne 0 \\right) \n",
    "\\\\\n",
    "\\end{aligned}\n",
    "$$\n",
    "复合函数求导\n",
    "$$\n",
    "\\begin{aligned}\n",
    "y=f\\left( u \\right) ,\\;u=g\\left( x \\right) \n",
    "\\\\\n",
    "\\frac{\\mathrm{d}y}{\\mathrm{d}x}=\\frac{\\mathrm{d}y}{\\mathrm{d}u}\\cdot \\frac{\\mathrm{d}u}{\\mathrm{d}x}\n",
    "\\end{aligned}\n",
    "$$\n"
   ],
   "id": "f722c854c5673577"
  },
  {
   "metadata": {
    "ExecuteTime": {
     "end_time": "2025-07-24T02:13:08.674364Z",
     "start_time": "2025-07-24T02:13:08.671511Z"
    }
   },
   "cell_type": "code",
   "source": [
    "def use_svg_display():  #@save\n",
    "    backend_inline.set_matplotlib_formats('svg')"
   ],
   "id": "48a2dbdc7cb3a833",
   "outputs": [],
   "execution_count": 9
  },
  {
   "metadata": {
    "ExecuteTime": {
     "end_time": "2025-07-24T02:14:54.201775Z",
     "start_time": "2025-07-24T02:14:54.198717Z"
    }
   },
   "cell_type": "code",
   "source": [
    "def set_figsize(figsize=(3.5,2.5)): #@save\n",
    "    use_svg_display()\n",
    "    d2l.plt.rcParams['figure.figsize'] = figsize"
   ],
   "id": "5c05ff90451eadc",
   "outputs": [],
   "execution_count": 10
  },
  {
   "metadata": {
    "ExecuteTime": {
     "end_time": "2025-07-24T02:15:20.129531Z",
     "start_time": "2025-07-24T02:15:20.125712Z"
    }
   },
   "cell_type": "code",
   "source": [
    "#@save\n",
    "def set_axes(axes, xlabel, ylabel, xlim, ylim, xscale, yscale, legend):\n",
    "    \"\"\"设置matplotlib的轴\"\"\"\n",
    "    axes.set_xlabel(xlabel)\n",
    "    axes.set_ylabel(ylabel)\n",
    "    axes.set_xscale(xscale)\n",
    "    axes.set_yscale(yscale)\n",
    "    axes.set_xlim(xlim)\n",
    "    axes.set_ylim(ylim)\n",
    "    if legend:\n",
    "        axes.legend(legend)\n",
    "    axes.grid()"
   ],
   "id": "d3f218e0977f5465",
   "outputs": [],
   "execution_count": 11
  },
  {
   "metadata": {
    "ExecuteTime": {
     "end_time": "2025-07-24T02:16:49.776161Z",
     "start_time": "2025-07-24T02:16:49.770162Z"
    }
   },
   "cell_type": "code",
   "source": [
    "#@save\n",
    "def plot(X, Y=None, xlabel=None, ylabel=None, legend=None, xlim=None,\n",
    "         ylim=None, xscale='linear', yscale='linear',\n",
    "         fmts=('-', 'm--', 'g-.', 'r:'), figsize=(3.5, 2.5), axes=None):\n",
    "    \"\"\"绘制数据点\"\"\"\n",
    "    if legend is None:\n",
    "        legend = []\n",
    "\n",
    "    set_figsize(figsize)\n",
    "    axes = axes if axes else d2l.plt.gca()\n",
    "\n",
    "    # 如果X有一个轴，输出True\n",
    "    def has_one_axis(X):\n",
    "        return (hasattr(X, \"ndim\") and X.ndim == 1 or isinstance(X, list)\n",
    "                and not hasattr(X[0], \"__len__\"))\n",
    "\n",
    "    if has_one_axis(X):\n",
    "        X = [X]\n",
    "    if Y is None:\n",
    "        X, Y = [[]] * len(X), X\n",
    "    elif has_one_axis(Y):\n",
    "        Y = [Y]\n",
    "    if len(X) != len(Y):\n",
    "        X = X * len(Y)\n",
    "    axes.cla()\n",
    "    for x, y, fmt in zip(X, Y, fmts):\n",
    "        if len(x):\n",
    "            axes.plot(x, y, fmt)\n",
    "        else:\n",
    "            axes.plot(y, fmt)\n",
    "    set_axes(axes, xlabel, ylabel, xlim, ylim, xscale, yscale, legend)"
   ],
   "id": "71ed917ee6de5df9",
   "outputs": [],
   "execution_count": 12
  },
  {
   "metadata": {
    "ExecuteTime": {
     "end_time": "2025-07-24T02:17:56.979422Z",
     "start_time": "2025-07-24T02:17:56.887639Z"
    }
   },
   "cell_type": "code",
   "source": [
    "x = np.arange(0, 3, 0.1)\n",
    "plot(x, [f(x), 2 * x - 3], 'x', 'f(x)', legend=['f(x)', 'Tangent line (x=1)'])"
   ],
   "id": "6ab293c9c8ccffb7",
   "outputs": [
    {
     "data": {
      "text/plain": [
       "<Figure size 350x250 with 1 Axes>"
      ],
      "image/svg+xml": "<?xml version=\"1.0\" encoding=\"utf-8\" standalone=\"no\"?>\n<!DOCTYPE svg PUBLIC \"-//W3C//DTD SVG 1.1//EN\"\n  \"http://www.w3.org/Graphics/SVG/1.1/DTD/svg11.dtd\">\n<svg xmlns:xlink=\"http://www.w3.org/1999/xlink\" width=\"243.529359pt\" height=\"183.35625pt\" viewBox=\"0 0 243.529359 183.35625\" xmlns=\"http://www.w3.org/2000/svg\" version=\"1.1\">\n <metadata>\n  <rdf:RDF xmlns:dc=\"http://purl.org/dc/elements/1.1/\" xmlns:cc=\"http://creativecommons.org/ns#\" xmlns:rdf=\"http://www.w3.org/1999/02/22-rdf-syntax-ns#\">\n   <cc:Work>\n    <dc:type rdf:resource=\"http://purl.org/dc/dcmitype/StillImage\"/>\n    <dc:date>2025-07-24T10:17:56.960309</dc:date>\n    <dc:format>image/svg+xml</dc:format>\n    <dc:creator>\n     <cc:Agent>\n      <dc:title>Matplotlib v3.10.3, https://matplotlib.org/</dc:title>\n     </cc:Agent>\n    </dc:creator>\n   </cc:Work>\n  </rdf:RDF>\n </metadata>\n <defs>\n  <style type=\"text/css\">*{stroke-linejoin: round; stroke-linecap: butt}</style>\n </defs>\n <g id=\"figure_1\">\n  <g id=\"patch_1\">\n   <path d=\"M 0 183.35625 \nL 243.529359 183.35625 \nL 243.529359 0 \nL 0 0 \nz\n\" style=\"fill: #ffffff\"/>\n  </g>\n  <g id=\"axes_1\">\n   <g id=\"patch_2\">\n    <path d=\"M 40.603125 145.8 \nL 235.903125 145.8 \nL 235.903125 7.2 \nL 40.603125 7.2 \nz\n\" style=\"fill: #ffffff\"/>\n   </g>\n   <g id=\"matplotlib.axis_1\">\n    <g id=\"xtick_1\">\n     <g id=\"line2d_1\">\n      <path d=\"M 49.480398 145.8 \nL 49.480398 7.2 \n\" clip-path=\"url(#pd9d849d4d6)\" style=\"fill: none; stroke: #b0b0b0; stroke-width: 0.8; stroke-linecap: square\"/>\n     </g>\n     <g id=\"line2d_2\">\n      <defs>\n       <path id=\"m430dbeef81\" d=\"M 0 0 \nL 0 3.5 \n\" style=\"stroke: #000000; stroke-width: 0.8\"/>\n      </defs>\n      <g>\n       <use xlink:href=\"#m430dbeef81\" x=\"49.480398\" y=\"145.8\" style=\"stroke: #000000; stroke-width: 0.8\"/>\n      </g>\n     </g>\n     <g id=\"text_1\">\n      <!-- 0 -->\n      <g transform=\"translate(46.299148 160.398438) scale(0.1 -0.1)\">\n       <defs>\n        <path id=\"DejaVuSans-30\" d=\"M 2034 4250 \nQ 1547 4250 1301 3770 \nQ 1056 3291 1056 2328 \nQ 1056 1369 1301 889 \nQ 1547 409 2034 409 \nQ 2525 409 2770 889 \nQ 3016 1369 3016 2328 \nQ 3016 3291 2770 3770 \nQ 2525 4250 2034 4250 \nz\nM 2034 4750 \nQ 2819 4750 3233 4129 \nQ 3647 3509 3647 2328 \nQ 3647 1150 3233 529 \nQ 2819 -91 2034 -91 \nQ 1250 -91 836 529 \nQ 422 1150 422 2328 \nQ 422 3509 836 4129 \nQ 1250 4750 2034 4750 \nz\n\" transform=\"scale(0.015625)\"/>\n       </defs>\n       <use xlink:href=\"#DejaVuSans-30\"/>\n      </g>\n     </g>\n    </g>\n    <g id=\"xtick_2\">\n     <g id=\"line2d_3\">\n      <path d=\"M 110.702968 145.8 \nL 110.702968 7.2 \n\" clip-path=\"url(#pd9d849d4d6)\" style=\"fill: none; stroke: #b0b0b0; stroke-width: 0.8; stroke-linecap: square\"/>\n     </g>\n     <g id=\"line2d_4\">\n      <g>\n       <use xlink:href=\"#m430dbeef81\" x=\"110.702968\" y=\"145.8\" style=\"stroke: #000000; stroke-width: 0.8\"/>\n      </g>\n     </g>\n     <g id=\"text_2\">\n      <!-- 1 -->\n      <g transform=\"translate(107.521718 160.398438) scale(0.1 -0.1)\">\n       <defs>\n        <path id=\"DejaVuSans-31\" d=\"M 794 531 \nL 1825 531 \nL 1825 4091 \nL 703 3866 \nL 703 4441 \nL 1819 4666 \nL 2450 4666 \nL 2450 531 \nL 3481 531 \nL 3481 0 \nL 794 0 \nL 794 531 \nz\n\" transform=\"scale(0.015625)\"/>\n       </defs>\n       <use xlink:href=\"#DejaVuSans-31\"/>\n      </g>\n     </g>\n    </g>\n    <g id=\"xtick_3\">\n     <g id=\"line2d_5\">\n      <path d=\"M 171.925539 145.8 \nL 171.925539 7.2 \n\" clip-path=\"url(#pd9d849d4d6)\" style=\"fill: none; stroke: #b0b0b0; stroke-width: 0.8; stroke-linecap: square\"/>\n     </g>\n     <g id=\"line2d_6\">\n      <g>\n       <use xlink:href=\"#m430dbeef81\" x=\"171.925539\" y=\"145.8\" style=\"stroke: #000000; stroke-width: 0.8\"/>\n      </g>\n     </g>\n     <g id=\"text_3\">\n      <!-- 2 -->\n      <g transform=\"translate(168.744289 160.398438) scale(0.1 -0.1)\">\n       <defs>\n        <path id=\"DejaVuSans-32\" d=\"M 1228 531 \nL 3431 531 \nL 3431 0 \nL 469 0 \nL 469 531 \nQ 828 903 1448 1529 \nQ 2069 2156 2228 2338 \nQ 2531 2678 2651 2914 \nQ 2772 3150 2772 3378 \nQ 2772 3750 2511 3984 \nQ 2250 4219 1831 4219 \nQ 1534 4219 1204 4116 \nQ 875 4013 500 3803 \nL 500 4441 \nQ 881 4594 1212 4672 \nQ 1544 4750 1819 4750 \nQ 2544 4750 2975 4387 \nQ 3406 4025 3406 3419 \nQ 3406 3131 3298 2873 \nQ 3191 2616 2906 2266 \nQ 2828 2175 2409 1742 \nQ 1991 1309 1228 531 \nz\n\" transform=\"scale(0.015625)\"/>\n       </defs>\n       <use xlink:href=\"#DejaVuSans-32\"/>\n      </g>\n     </g>\n    </g>\n    <g id=\"xtick_4\">\n     <g id=\"line2d_7\">\n      <path d=\"M 233.148109 145.8 \nL 233.148109 7.2 \n\" clip-path=\"url(#pd9d849d4d6)\" style=\"fill: none; stroke: #b0b0b0; stroke-width: 0.8; stroke-linecap: square\"/>\n     </g>\n     <g id=\"line2d_8\">\n      <g>\n       <use xlink:href=\"#m430dbeef81\" x=\"233.148109\" y=\"145.8\" style=\"stroke: #000000; stroke-width: 0.8\"/>\n      </g>\n     </g>\n     <g id=\"text_4\">\n      <!-- 3 -->\n      <g transform=\"translate(229.966859 160.398438) scale(0.1 -0.1)\">\n       <defs>\n        <path id=\"DejaVuSans-33\" d=\"M 2597 2516 \nQ 3050 2419 3304 2112 \nQ 3559 1806 3559 1356 \nQ 3559 666 3084 287 \nQ 2609 -91 1734 -91 \nQ 1441 -91 1130 -33 \nQ 819 25 488 141 \nL 488 750 \nQ 750 597 1062 519 \nQ 1375 441 1716 441 \nQ 2309 441 2620 675 \nQ 2931 909 2931 1356 \nQ 2931 1769 2642 2001 \nQ 2353 2234 1838 2234 \nL 1294 2234 \nL 1294 2753 \nL 1863 2753 \nQ 2328 2753 2575 2939 \nQ 2822 3125 2822 3475 \nQ 2822 3834 2567 4026 \nQ 2313 4219 1838 4219 \nQ 1578 4219 1281 4162 \nQ 984 4106 628 3988 \nL 628 4550 \nQ 988 4650 1302 4700 \nQ 1616 4750 1894 4750 \nQ 2613 4750 3031 4423 \nQ 3450 4097 3450 3541 \nQ 3450 3153 3228 2886 \nQ 3006 2619 2597 2516 \nz\n\" transform=\"scale(0.015625)\"/>\n       </defs>\n       <use xlink:href=\"#DejaVuSans-33\"/>\n      </g>\n     </g>\n    </g>\n    <g id=\"text_5\">\n     <!-- x -->\n     <g transform=\"translate(135.29375 174.076563) scale(0.1 -0.1)\">\n      <defs>\n       <path id=\"DejaVuSans-78\" d=\"M 3513 3500 \nL 2247 1797 \nL 3578 0 \nL 2900 0 \nL 1881 1375 \nL 863 0 \nL 184 0 \nL 1544 1831 \nL 300 3500 \nL 978 3500 \nL 1906 2253 \nL 2834 3500 \nL 3513 3500 \nz\n\" transform=\"scale(0.015625)\"/>\n      </defs>\n      <use xlink:href=\"#DejaVuSans-78\"/>\n     </g>\n    </g>\n   </g>\n   <g id=\"matplotlib.axis_2\">\n    <g id=\"ytick_1\">\n     <g id=\"line2d_9\">\n      <path d=\"M 40.603125 116.769994 \nL 235.903125 116.769994 \n\" clip-path=\"url(#pd9d849d4d6)\" style=\"fill: none; stroke: #b0b0b0; stroke-width: 0.8; stroke-linecap: square\"/>\n     </g>\n     <g id=\"line2d_10\">\n      <defs>\n       <path id=\"m4959502af9\" d=\"M 0 0 \nL -3.5 0 \n\" style=\"stroke: #000000; stroke-width: 0.8\"/>\n      </defs>\n      <g>\n       <use xlink:href=\"#m4959502af9\" x=\"40.603125\" y=\"116.769994\" style=\"stroke: #000000; stroke-width: 0.8\"/>\n      </g>\n     </g>\n     <g id=\"text_6\">\n      <!-- 0 -->\n      <g transform=\"translate(27.240625 120.569213) scale(0.1 -0.1)\">\n       <use xlink:href=\"#DejaVuSans-30\"/>\n      </g>\n     </g>\n    </g>\n    <g id=\"ytick_2\">\n     <g id=\"line2d_11\">\n      <path d=\"M 40.603125 78.886651 \nL 235.903125 78.886651 \n\" clip-path=\"url(#pd9d849d4d6)\" style=\"fill: none; stroke: #b0b0b0; stroke-width: 0.8; stroke-linecap: square\"/>\n     </g>\n     <g id=\"line2d_12\">\n      <g>\n       <use xlink:href=\"#m4959502af9\" x=\"40.603125\" y=\"78.886651\" style=\"stroke: #000000; stroke-width: 0.8\"/>\n      </g>\n     </g>\n     <g id=\"text_7\">\n      <!-- 5 -->\n      <g transform=\"translate(27.240625 82.685869) scale(0.1 -0.1)\">\n       <defs>\n        <path id=\"DejaVuSans-35\" d=\"M 691 4666 \nL 3169 4666 \nL 3169 4134 \nL 1269 4134 \nL 1269 2991 \nQ 1406 3038 1543 3061 \nQ 1681 3084 1819 3084 \nQ 2600 3084 3056 2656 \nQ 3513 2228 3513 1497 \nQ 3513 744 3044 326 \nQ 2575 -91 1722 -91 \nQ 1428 -91 1123 -41 \nQ 819 9 494 109 \nL 494 744 \nQ 775 591 1075 516 \nQ 1375 441 1709 441 \nQ 2250 441 2565 725 \nQ 2881 1009 2881 1497 \nQ 2881 1984 2565 2268 \nQ 2250 2553 1709 2553 \nQ 1456 2553 1204 2497 \nQ 953 2441 691 2322 \nL 691 4666 \nz\n\" transform=\"scale(0.015625)\"/>\n       </defs>\n       <use xlink:href=\"#DejaVuSans-35\"/>\n      </g>\n     </g>\n    </g>\n    <g id=\"ytick_3\">\n     <g id=\"line2d_13\">\n      <path d=\"M 40.603125 41.003307 \nL 235.903125 41.003307 \n\" clip-path=\"url(#pd9d849d4d6)\" style=\"fill: none; stroke: #b0b0b0; stroke-width: 0.8; stroke-linecap: square\"/>\n     </g>\n     <g id=\"line2d_14\">\n      <g>\n       <use xlink:href=\"#m4959502af9\" x=\"40.603125\" y=\"41.003307\" style=\"stroke: #000000; stroke-width: 0.8\"/>\n      </g>\n     </g>\n     <g id=\"text_8\">\n      <!-- 10 -->\n      <g transform=\"translate(20.878125 44.802526) scale(0.1 -0.1)\">\n       <use xlink:href=\"#DejaVuSans-31\"/>\n       <use xlink:href=\"#DejaVuSans-30\" transform=\"translate(63.623047 0)\"/>\n      </g>\n     </g>\n    </g>\n    <g id=\"text_9\">\n     <!-- f(x) -->\n     <g transform=\"translate(14.798437 85.121094) rotate(-90) scale(0.1 -0.1)\">\n      <defs>\n       <path id=\"DejaVuSans-66\" d=\"M 2375 4863 \nL 2375 4384 \nL 1825 4384 \nQ 1516 4384 1395 4259 \nQ 1275 4134 1275 3809 \nL 1275 3500 \nL 2222 3500 \nL 2222 3053 \nL 1275 3053 \nL 1275 0 \nL 697 0 \nL 697 3053 \nL 147 3053 \nL 147 3500 \nL 697 3500 \nL 697 3744 \nQ 697 4328 969 4595 \nQ 1241 4863 1831 4863 \nL 2375 4863 \nz\n\" transform=\"scale(0.015625)\"/>\n       <path id=\"DejaVuSans-28\" d=\"M 1984 4856 \nQ 1566 4138 1362 3434 \nQ 1159 2731 1159 2009 \nQ 1159 1288 1364 580 \nQ 1569 -128 1984 -844 \nL 1484 -844 \nQ 1016 -109 783 600 \nQ 550 1309 550 2009 \nQ 550 2706 781 3412 \nQ 1013 4119 1484 4856 \nL 1984 4856 \nz\n\" transform=\"scale(0.015625)\"/>\n       <path id=\"DejaVuSans-29\" d=\"M 513 4856 \nL 1013 4856 \nQ 1481 4119 1714 3412 \nQ 1947 2706 1947 2009 \nQ 1947 1309 1714 600 \nQ 1481 -109 1013 -844 \nL 513 -844 \nQ 928 -128 1133 580 \nQ 1338 1288 1338 2009 \nQ 1338 2731 1133 3434 \nQ 928 4138 513 4856 \nz\n\" transform=\"scale(0.015625)\"/>\n      </defs>\n      <use xlink:href=\"#DejaVuSans-66\"/>\n      <use xlink:href=\"#DejaVuSans-28\" transform=\"translate(35.205078 0)\"/>\n      <use xlink:href=\"#DejaVuSans-78\" transform=\"translate(74.21875 0)\"/>\n      <use xlink:href=\"#DejaVuSans-29\" transform=\"translate(133.398438 0)\"/>\n     </g>\n    </g>\n   </g>\n   <g id=\"line2d_15\">\n    <path d=\"M 49.480398 116.769994 \nL 55.602655 119.573361 \nL 61.724912 121.922129 \nL 67.847169 123.816296 \nL 73.969426 125.255863 \nL 80.091683 126.24083 \nL 86.21394 126.771197 \nL 92.336197 126.846963 \nL 98.458454 126.46813 \nL 104.580711 125.634696 \nL 110.702968 124.346663 \nL 116.825225 122.604029 \nL 122.947482 120.406795 \nL 129.069739 117.754961 \nL 135.191996 114.648527 \nL 141.314254 111.087492 \nL 147.436511 107.071858 \nL 153.558768 102.601624 \nL 159.681025 97.676789 \nL 165.803282 92.297354 \nL 171.925539 86.463319 \nL 178.047796 80.174684 \nL 184.170053 73.431449 \nL 190.29231 66.233614 \nL 196.414567 58.581179 \nL 202.536824 50.474143 \nL 208.659081 41.912508 \nL 214.781338 32.896272 \nL 220.903595 23.425436 \nL 227.025852 13.5 \n\" clip-path=\"url(#pd9d849d4d6)\" style=\"fill: none; stroke: #1f77b4; stroke-width: 1.5; stroke-linecap: square\"/>\n   </g>\n   <g id=\"line2d_16\">\n    <path d=\"M 49.480398 139.5 \nL 55.602655 137.984666 \nL 61.724912 136.469333 \nL 67.847169 134.953999 \nL 73.969426 133.438665 \nL 80.091683 131.923331 \nL 86.21394 130.407998 \nL 92.336197 128.892664 \nL 98.458454 127.37733 \nL 104.580711 125.861996 \nL 110.702968 124.346663 \nL 116.825225 122.831329 \nL 122.947482 121.315995 \nL 129.069739 119.800661 \nL 135.191996 118.285328 \nL 141.314254 116.769994 \nL 147.436511 115.25466 \nL 153.558768 113.739327 \nL 159.681025 112.223993 \nL 165.803282 110.708659 \nL 171.925539 109.193325 \nL 178.047796 107.677992 \nL 184.170053 106.162658 \nL 190.29231 104.647324 \nL 196.414567 103.13199 \nL 202.536824 101.616657 \nL 208.659081 100.101323 \nL 214.781338 98.585989 \nL 220.903595 97.070655 \nL 227.025852 95.555322 \n\" clip-path=\"url(#pd9d849d4d6)\" style=\"fill: none; stroke-dasharray: 5.55,2.4; stroke-dashoffset: 0; stroke: #bf00bf; stroke-width: 1.5\"/>\n   </g>\n   <g id=\"patch_3\">\n    <path d=\"M 40.603125 145.8 \nL 40.603125 7.2 \n\" style=\"fill: none; stroke: #000000; stroke-width: 0.8; stroke-linejoin: miter; stroke-linecap: square\"/>\n   </g>\n   <g id=\"patch_4\">\n    <path d=\"M 235.903125 145.8 \nL 235.903125 7.2 \n\" style=\"fill: none; stroke: #000000; stroke-width: 0.8; stroke-linejoin: miter; stroke-linecap: square\"/>\n   </g>\n   <g id=\"patch_5\">\n    <path d=\"M 40.603125 145.8 \nL 235.903125 145.8 \n\" style=\"fill: none; stroke: #000000; stroke-width: 0.8; stroke-linejoin: miter; stroke-linecap: square\"/>\n   </g>\n   <g id=\"patch_6\">\n    <path d=\"M 40.603125 7.2 \nL 235.903125 7.2 \n\" style=\"fill: none; stroke: #000000; stroke-width: 0.8; stroke-linejoin: miter; stroke-linecap: square\"/>\n   </g>\n   <g id=\"legend_1\">\n    <g id=\"patch_7\">\n     <path d=\"M 47.603125 44.55625 \nL 172.153125 44.55625 \nQ 174.153125 44.55625 174.153125 42.55625 \nL 174.153125 14.2 \nQ 174.153125 12.2 172.153125 12.2 \nL 47.603125 12.2 \nQ 45.603125 12.2 45.603125 14.2 \nL 45.603125 42.55625 \nQ 45.603125 44.55625 47.603125 44.55625 \nz\n\" style=\"fill: #ffffff; opacity: 0.8; stroke: #cccccc; stroke-linejoin: miter\"/>\n    </g>\n    <g id=\"line2d_17\">\n     <path d=\"M 49.603125 20.298438 \nL 59.603125 20.298438 \nL 69.603125 20.298438 \n\" style=\"fill: none; stroke: #1f77b4; stroke-width: 1.5; stroke-linecap: square\"/>\n    </g>\n    <g id=\"text_10\">\n     <!-- f(x) -->\n     <g transform=\"translate(77.603125 23.798438) scale(0.1 -0.1)\">\n      <use xlink:href=\"#DejaVuSans-66\"/>\n      <use xlink:href=\"#DejaVuSans-28\" transform=\"translate(35.205078 0)\"/>\n      <use xlink:href=\"#DejaVuSans-78\" transform=\"translate(74.21875 0)\"/>\n      <use xlink:href=\"#DejaVuSans-29\" transform=\"translate(133.398438 0)\"/>\n     </g>\n    </g>\n    <g id=\"line2d_18\">\n     <path d=\"M 49.603125 34.976562 \nL 59.603125 34.976562 \nL 69.603125 34.976562 \n\" style=\"fill: none; stroke-dasharray: 5.55,2.4; stroke-dashoffset: 0; stroke: #bf00bf; stroke-width: 1.5\"/>\n    </g>\n    <g id=\"text_11\">\n     <!-- Tangent line (x=1) -->\n     <g transform=\"translate(77.603125 38.476562) scale(0.1 -0.1)\">\n      <defs>\n       <path id=\"DejaVuSans-54\" d=\"M -19 4666 \nL 3928 4666 \nL 3928 4134 \nL 2272 4134 \nL 2272 0 \nL 1638 0 \nL 1638 4134 \nL -19 4134 \nL -19 4666 \nz\n\" transform=\"scale(0.015625)\"/>\n       <path id=\"DejaVuSans-61\" d=\"M 2194 1759 \nQ 1497 1759 1228 1600 \nQ 959 1441 959 1056 \nQ 959 750 1161 570 \nQ 1363 391 1709 391 \nQ 2188 391 2477 730 \nQ 2766 1069 2766 1631 \nL 2766 1759 \nL 2194 1759 \nz\nM 3341 1997 \nL 3341 0 \nL 2766 0 \nL 2766 531 \nQ 2569 213 2275 61 \nQ 1981 -91 1556 -91 \nQ 1019 -91 701 211 \nQ 384 513 384 1019 \nQ 384 1609 779 1909 \nQ 1175 2209 1959 2209 \nL 2766 2209 \nL 2766 2266 \nQ 2766 2663 2505 2880 \nQ 2244 3097 1772 3097 \nQ 1472 3097 1187 3025 \nQ 903 2953 641 2809 \nL 641 3341 \nQ 956 3463 1253 3523 \nQ 1550 3584 1831 3584 \nQ 2591 3584 2966 3190 \nQ 3341 2797 3341 1997 \nz\n\" transform=\"scale(0.015625)\"/>\n       <path id=\"DejaVuSans-6e\" d=\"M 3513 2113 \nL 3513 0 \nL 2938 0 \nL 2938 2094 \nQ 2938 2591 2744 2837 \nQ 2550 3084 2163 3084 \nQ 1697 3084 1428 2787 \nQ 1159 2491 1159 1978 \nL 1159 0 \nL 581 0 \nL 581 3500 \nL 1159 3500 \nL 1159 2956 \nQ 1366 3272 1645 3428 \nQ 1925 3584 2291 3584 \nQ 2894 3584 3203 3211 \nQ 3513 2838 3513 2113 \nz\n\" transform=\"scale(0.015625)\"/>\n       <path id=\"DejaVuSans-67\" d=\"M 2906 1791 \nQ 2906 2416 2648 2759 \nQ 2391 3103 1925 3103 \nQ 1463 3103 1205 2759 \nQ 947 2416 947 1791 \nQ 947 1169 1205 825 \nQ 1463 481 1925 481 \nQ 2391 481 2648 825 \nQ 2906 1169 2906 1791 \nz\nM 3481 434 \nQ 3481 -459 3084 -895 \nQ 2688 -1331 1869 -1331 \nQ 1566 -1331 1297 -1286 \nQ 1028 -1241 775 -1147 \nL 775 -588 \nQ 1028 -725 1275 -790 \nQ 1522 -856 1778 -856 \nQ 2344 -856 2625 -561 \nQ 2906 -266 2906 331 \nL 2906 616 \nQ 2728 306 2450 153 \nQ 2172 0 1784 0 \nQ 1141 0 747 490 \nQ 353 981 353 1791 \nQ 353 2603 747 3093 \nQ 1141 3584 1784 3584 \nQ 2172 3584 2450 3431 \nQ 2728 3278 2906 2969 \nL 2906 3500 \nL 3481 3500 \nL 3481 434 \nz\n\" transform=\"scale(0.015625)\"/>\n       <path id=\"DejaVuSans-65\" d=\"M 3597 1894 \nL 3597 1613 \nL 953 1613 \nQ 991 1019 1311 708 \nQ 1631 397 2203 397 \nQ 2534 397 2845 478 \nQ 3156 559 3463 722 \nL 3463 178 \nQ 3153 47 2828 -22 \nQ 2503 -91 2169 -91 \nQ 1331 -91 842 396 \nQ 353 884 353 1716 \nQ 353 2575 817 3079 \nQ 1281 3584 2069 3584 \nQ 2775 3584 3186 3129 \nQ 3597 2675 3597 1894 \nz\nM 3022 2063 \nQ 3016 2534 2758 2815 \nQ 2500 3097 2075 3097 \nQ 1594 3097 1305 2825 \nQ 1016 2553 972 2059 \nL 3022 2063 \nz\n\" transform=\"scale(0.015625)\"/>\n       <path id=\"DejaVuSans-74\" d=\"M 1172 4494 \nL 1172 3500 \nL 2356 3500 \nL 2356 3053 \nL 1172 3053 \nL 1172 1153 \nQ 1172 725 1289 603 \nQ 1406 481 1766 481 \nL 2356 481 \nL 2356 0 \nL 1766 0 \nQ 1100 0 847 248 \nQ 594 497 594 1153 \nL 594 3053 \nL 172 3053 \nL 172 3500 \nL 594 3500 \nL 594 4494 \nL 1172 4494 \nz\n\" transform=\"scale(0.015625)\"/>\n       <path id=\"DejaVuSans-20\" transform=\"scale(0.015625)\"/>\n       <path id=\"DejaVuSans-6c\" d=\"M 603 4863 \nL 1178 4863 \nL 1178 0 \nL 603 0 \nL 603 4863 \nz\n\" transform=\"scale(0.015625)\"/>\n       <path id=\"DejaVuSans-69\" d=\"M 603 3500 \nL 1178 3500 \nL 1178 0 \nL 603 0 \nL 603 3500 \nz\nM 603 4863 \nL 1178 4863 \nL 1178 4134 \nL 603 4134 \nL 603 4863 \nz\n\" transform=\"scale(0.015625)\"/>\n       <path id=\"DejaVuSans-3d\" d=\"M 678 2906 \nL 4684 2906 \nL 4684 2381 \nL 678 2381 \nL 678 2906 \nz\nM 678 1631 \nL 4684 1631 \nL 4684 1100 \nL 678 1100 \nL 678 1631 \nz\n\" transform=\"scale(0.015625)\"/>\n      </defs>\n      <use xlink:href=\"#DejaVuSans-54\"/>\n      <use xlink:href=\"#DejaVuSans-61\" transform=\"translate(44.583984 0)\"/>\n      <use xlink:href=\"#DejaVuSans-6e\" transform=\"translate(105.863281 0)\"/>\n      <use xlink:href=\"#DejaVuSans-67\" transform=\"translate(169.242188 0)\"/>\n      <use xlink:href=\"#DejaVuSans-65\" transform=\"translate(232.71875 0)\"/>\n      <use xlink:href=\"#DejaVuSans-6e\" transform=\"translate(294.242188 0)\"/>\n      <use xlink:href=\"#DejaVuSans-74\" transform=\"translate(357.621094 0)\"/>\n      <use xlink:href=\"#DejaVuSans-20\" transform=\"translate(396.830078 0)\"/>\n      <use xlink:href=\"#DejaVuSans-6c\" transform=\"translate(428.617188 0)\"/>\n      <use xlink:href=\"#DejaVuSans-69\" transform=\"translate(456.400391 0)\"/>\n      <use xlink:href=\"#DejaVuSans-6e\" transform=\"translate(484.183594 0)\"/>\n      <use xlink:href=\"#DejaVuSans-65\" transform=\"translate(547.5625 0)\"/>\n      <use xlink:href=\"#DejaVuSans-20\" transform=\"translate(609.085938 0)\"/>\n      <use xlink:href=\"#DejaVuSans-28\" transform=\"translate(640.873047 0)\"/>\n      <use xlink:href=\"#DejaVuSans-78\" transform=\"translate(679.886719 0)\"/>\n      <use xlink:href=\"#DejaVuSans-3d\" transform=\"translate(739.066406 0)\"/>\n      <use xlink:href=\"#DejaVuSans-31\" transform=\"translate(822.855469 0)\"/>\n      <use xlink:href=\"#DejaVuSans-29\" transform=\"translate(886.478516 0)\"/>\n     </g>\n    </g>\n   </g>\n  </g>\n </g>\n <defs>\n  <clipPath id=\"pd9d849d4d6\">\n   <rect x=\"40.603125\" y=\"7.2\" width=\"195.3\" height=\"138.6\"/>\n  </clipPath>\n </defs>\n</svg>\n"
     },
     "metadata": {},
     "output_type": "display_data"
    }
   ],
   "execution_count": 13
  },
  {
   "metadata": {},
   "cell_type": "markdown",
   "source": [
    "## 偏导数\n",
    "偏导数的正式定义是基于极限的。对于一个二元函数 $f(x, y)$，它关于 $x$ 和 $y$ 的偏导数分别定义为：\n",
    "\n",
    "$$ \\frac{\\partial f}{\\partial x} = \\lim_{h \\to 0} \\frac{f(x+h, y) - f(x, y)}{h} $$\n",
    "\n",
    "$$ \\frac{\\partial f}{\\partial y} = \\lim_{h \\to 0} \\frac{f(x, y+h) - f(x, y)}{h} $$\n",
    "\n",
    "**常用记号**：\n",
    "函数 $f$ 关于 $x$ 的偏导数可以记为 $ \\frac{\\partial f}{\\partial x} $、$ f_x(x,y) $ 或 $ \\partial_x f $。\n",
    "## 梯度\n",
    "\n",
    "假设有一个n元函数 $f(x_1, x_2, \\dots, x_n)$，它在空间中某一点 $P(a_1, a_2, \\dots, a_n)$ 是可微的。那么，函数 $f$ 在点 $P$ 的梯度是一个向量，定义为：\n",
    "\n",
    "$$\n",
    "\\nabla f(P) = \\left( \\frac{\\partial f}{\\partial x_1}, \\frac{\\partial f}{\\partial x_2}, \\dots, \\frac{\\partial f}{\\partial x_n} \\right) \\bigg|_P\n",
    "$$\n",
    "\n",
    "其中:\n",
    "*   $\\nabla$ (读作 \"nabla\") 是梯度算子。\n",
    "*   $\\frac{\\partial f}{\\partial x_i}$ 是函数 $f$ 对变量 $x_i$ 的**偏导数**，代表函数值仅仅沿着 $x_i$ 坐标轴方向的变化率，同时保持其他变量 $x_j (j \\neq i)$ 不变。\n",
    "\n",
    "方法:\n",
    "- 先求偏导数\n",
    "- 再把点带进去\n",
    "### 布局 \n",
    "参考(https://zdaiot.com/Math/%E7%9F%A9%E9%98%B5%E6%B1%82%E5%AF%BC%E6%B3%95%E5%88%99%E4%B8%8E%E6%80%A7%E8%B4%A8/)\n",
    "#### 1. 分子布局 (Numerator Layout)\n",
    "\n",
    "*   **别名**: **雅可比布局 (Jacobian Layout)**。\n",
    "*   **核心思想**: 导数矩阵的形状由**分子（输出 $\\mathbf{y}$）**决定行数，由**分母（输入 $\\mathbf{x}$）**决定列数。\n",
    "*   **结果形状**: $m \\times n$。\n",
    "*   **具体形式**: 这就是我们在教科书上学到的标准**雅可比矩阵 $\\mathbf{J}$**。\n",
    "    $$\n",
    "    \\frac{\\partial \\mathbf{y}}{\\partial \\mathbf{x}} \\triangleq \\mathbf{J} =\n",
    "    \\begin{bmatrix}\n",
    "        \\frac{\\partial y_1}{\\partial x_1} & \\cdots & \\frac{\\partial y_1}{\\partial x_n} \\\\\n",
    "        \\vdots & \\ddots & \\vdots \\\\\n",
    "        \\frac{\\partial y_m}{\\partial x_1} & \\cdots & \\frac{\\partial y_m}{\\partial x_n}\n",
    "    \\end{bmatrix}\n",
    "    $$\n",
    "    第 $i$ 行是输出向量的第 $i$ 个分量 $y_i$ 对输入向量 $\\mathbf{x}$ 的所有分量的偏导。\n",
    "\n",
    "#### 2. 分母布局 (Denominator Layout)\n",
    "*   **别名**: 梯度布局\n",
    "*   **核心思想**: 导数矩阵的形状由**分母（输入 $\\mathbf{x}$）**决定行数，由**分子（输出 $\\mathbf{y}$）**决定列数。\n",
    "*   **结果形状**: $n \\times m$。\n",
    "*   **具体形式**: 它恰好是**雅可比矩阵的转置 $\\mathbf{J}^\\top$**。\n",
    "    $$\n",
    "    \\frac{\\partial \\mathbf{y}}{\\partial \\mathbf{x}} \\triangleq \\mathbf{J}^\\top =\n",
    "    \\begin{bmatrix}\n",
    "        \\frac{\\partial y_1}{\\partial x_1} & \\cdots & \\frac{\\partial y_m}{\\partial x_1} \\\\\n",
    "        \\vdots & \\ddots & \\vdots \\\\\n",
    "        \\frac{\\partial y_1}{\\partial x_n} & \\cdots & \\frac{\\partial y_m}{\\partial x_n}\n",
    "    \\end{bmatrix}\n",
    "    $$\n",
    "    第 $j$ 列是输出向量的第 $j$ 个分量 $y_j$ 对输入向量 $\\mathbf{x}$ 的所有分量的偏导（即梯度 $\\nabla_{\\mathbf{x}} y_j$）。\n",
    "    * \n",
    "假设$\\mathbf{x}$为$n$维向量，在微分多元函数时经常使用以下规则：\n",
    "\n",
    "*   对于所有 $\\mathbf{A} \\in \\mathbb{R}^{m \\times n}$，都有 $\\nabla_{\\mathbf{x}} \\mathbf{A}\\mathbf{x} = \\mathbf{A}^{\\top}$\n",
    "\n",
    "*   对于所有 $\\mathbf{A} \\in \\mathbb{R}^{n \\times m}$，都有 $\\nabla_{\\mathbf{x}} \\mathbf{x}^{\\top}\\mathbf{A} = \\mathbf{A}$\n",
    "\n",
    "*   对于所有 $\\mathbf{A} \\in \\mathbb{R}^{n \\times n}$，都有 $\\nabla_{\\mathbf{x}} \\mathbf{x}^{\\top}\\mathbf{A}\\mathbf{x} = (\\mathbf{A} + \\mathbf{A}^{\\top})\\mathbf{x}$\n",
    "\n",
    "*   $\\nabla_{\\mathbf{x}} ||\\mathbf{x}||^2 = \\nabla_{\\mathbf{x}} \\mathbf{x}^{\\top}\\mathbf{x} = 2\\mathbf{x}$"
   ],
   "id": "2603c97a3da24b0c"
  },
  {
   "metadata": {
    "ExecuteTime": {
     "end_time": "2025-07-24T08:16:12.379976Z",
     "start_time": "2025-07-24T08:16:12.355042Z"
    }
   },
   "cell_type": "code",
   "source": [
    "import torch\n",
    "\n",
    "# 设置x和A\n",
    "x = torch.randn(3, 1, dtype=torch.float64, requires_grad=True)\n",
    "A_rule1 = torch.randn(4, 3, dtype=torch.float64) # m=4, n=3\n",
    "A_rule2 = torch.randn(3, 5, dtype=torch.float64) # n=3, m=5\n",
    "A_rule3 = torch.randn(3, 3, dtype=torch.float64) # n=3\n",
    "\n",
    "# --- 验证规则 1: ∇x(Ax) = A^T ---\n",
    "# 解释：y是(4,1)的向量。我们需要计算 y 的每个分量对 x 的梯度，\n",
    "# 然后将这些梯度向量 (每个都是 3x1) 横向拼接成一个 (3x4) 的矩阵。\n",
    "print(\"--- 规则 1 验证 ---\")\n",
    "y = A_rule1 @ x\n",
    "grad_cols_rule1 = []\n",
    "for i in range(y.shape[0]):\n",
    "    # grad() 的输出默认和 inputs 的形状一致, 即 (3,1)\n",
    "    # retain_graph=True 保证计算图在每次循环后不被释放\n",
    "    grad_col = torch.autograd.grad(y[i], x, retain_graph=True)[0]\n",
    "    grad_cols_rule1.append(grad_col)\n",
    "# 横向拼接所有梯度列向量\n",
    "grad_x_rule1 = torch.cat(grad_cols_rule1, dim=1)\n",
    "\n",
    "print(\"PyTorch 计算结果 (∇x(Ax)):\\n\", grad_x_rule1)\n",
    "print(\"理论结果 (A^T):\\n\", A_rule1.T)\n",
    "print(\"两者是否接近:\", torch.allclose(grad_x_rule1, A_rule1.T))\n",
    "print(\"-\" * 20)\n",
    "\n",
    "# --- 验证规则 2: ∇x(x^T A) = A ---\n",
    "# 解释：y_t 是(1,5)的向量。逻辑与规则1相同，\n",
    "# 逐个计算 y_t 每个分量对 x 的梯度，然后拼接。\n",
    "print(\"--- 规则 2 验证 ---\")\n",
    "y_t = x.T @ A_rule2\n",
    "grad_cols_rule2 = []\n",
    "for i in range(y_t.shape[1]):\n",
    "    grad_col = torch.autograd.grad(y_t[0, i], x, retain_graph=True)[0]\n",
    "    grad_cols_rule2.append(grad_col)\n",
    "# 横向拼接所有梯度列向量\n",
    "grad_x_rule2 = torch.cat(grad_cols_rule2, dim=1)\n",
    "\n",
    "print(\"PyTorch 计算结果 (∇x(x^T A)):\\n\", grad_x_rule2)\n",
    "print(\"理论结果 (A):\\n\", A_rule2)\n",
    "print(\"两者是否接近:\", torch.allclose(grad_x_rule2, A_rule2))\n",
    "print(\"-\" * 20)\n",
    "\n",
    "# 清空之前累积的梯度，为规则3做准备\n",
    "# 之前的grad调用没有使用.backward()，所以x.grad是None，无需清零\n",
    "# 但为了代码健壮性，我们可以检查并清零\n",
    "if x.grad is not None:\n",
    "    x.grad.zero_()\n",
    "\n",
    "# --- 验证规则 3: ∇x(x^T A x) = (A + A^T)x ---\n",
    "# 这部分代码是正确的，因为z是标量，可以直接调用.backward()\n",
    "z = x.T @ A_rule3 @ x\n",
    "z.backward(retain_graph=True)\n",
    "print(\"--- 规则 3 验证 ---\")\n",
    "print(\"PyTorch 计算结果 (x.grad):\\n\", x.grad)\n",
    "theoretical_grad3 = (A_rule3 + A_rule3.T) @ x\n",
    "print(\"理论结果 ((A + A^T)x):\\n\", theoretical_grad3)\n",
    "print(\"两者是否接近:\", torch.allclose(x.grad, theoretical_grad3))\n",
    "print(\"-\" * 20)\n",
    "x.grad.zero_() # 清空梯度\n",
    "\n",
    "# --- 验证规则 4: ∇x(x^T x) = 2x ---\n",
    "# 这部分代码也是正确的，因为norm_sq是标量\n",
    "norm_sq = x.T @ x\n",
    "norm_sq.backward()\n",
    "print(\"--- 规则 4 验证 ---\")\n",
    "print(\"PyTorch 计算结果 (x.grad):\\n\", x.grad)\n",
    "theoretical_grad4 = 2 * x\n",
    "print(\"理论结果 (2x):\\n\", theoretical_grad4)\n",
    "print(\"两者是否接近:\", torch.allclose(x.grad, theoretical_grad4))\n",
    "print(\"-\" * 20)"
   ],
   "id": "df7504fbf180e75",
   "outputs": [
    {
     "name": "stdout",
     "output_type": "stream",
     "text": [
      "--- 规则 1 验证 ---\n",
      "PyTorch 计算结果 (∇x(Ax)):\n",
      " tensor([[-1.8358,  0.9059,  0.0521,  0.8142],\n",
      "        [-0.2613,  0.6221,  0.9056,  0.7722],\n",
      "        [ 0.7354,  0.0430,  0.8858,  1.1261]], dtype=torch.float64)\n",
      "理论结果 (A^T):\n",
      " tensor([[-1.8358,  0.9059,  0.0521,  0.8142],\n",
      "        [-0.2613,  0.6221,  0.9056,  0.7722],\n",
      "        [ 0.7354,  0.0430,  0.8858,  1.1261]], dtype=torch.float64)\n",
      "两者是否接近: True\n",
      "--------------------\n",
      "--- 规则 2 验证 ---\n",
      "PyTorch 计算结果 (∇x(x^T A)):\n",
      " tensor([[ 0.5704,  0.0631,  1.1931,  0.6516,  0.3971],\n",
      "        [ 1.9220, -0.1833, -0.6417, -1.1372,  1.0651],\n",
      "        [-1.7046,  0.2499, -1.1635, -0.7652,  1.4035]], dtype=torch.float64)\n",
      "理论结果 (A):\n",
      " tensor([[ 0.5704,  0.0631,  1.1931,  0.6516,  0.3971],\n",
      "        [ 1.9220, -0.1833, -0.6417, -1.1372,  1.0651],\n",
      "        [-1.7046,  0.2499, -1.1635, -0.7652,  1.4035]], dtype=torch.float64)\n",
      "两者是否接近: True\n",
      "--------------------\n",
      "--- 规则 3 验证 ---\n",
      "PyTorch 计算结果 (x.grad):\n",
      " tensor([[-2.5252],\n",
      "        [-0.7109],\n",
      "        [-0.5882]], dtype=torch.float64)\n",
      "理论结果 ((A + A^T)x):\n",
      " tensor([[-2.5252],\n",
      "        [-0.7109],\n",
      "        [-0.5882]], dtype=torch.float64, grad_fn=<MmBackward0>)\n",
      "两者是否接近: True\n",
      "--------------------\n",
      "--- 规则 4 验证 ---\n",
      "PyTorch 计算结果 (x.grad):\n",
      " tensor([[2.1024],\n",
      "        [0.4299],\n",
      "        [1.7931]], dtype=torch.float64)\n",
      "理论结果 (2x):\n",
      " tensor([[2.1024],\n",
      "        [0.4299],\n",
      "        [1.7931]], dtype=torch.float64, grad_fn=<MulBackward0>)\n",
      "两者是否接近: True\n",
      "--------------------\n"
     ]
    }
   ],
   "execution_count": 15
  },
  {
   "metadata": {},
   "cell_type": "markdown",
   "source": [
    "# 练习\n",
    "1. 绘制函数$y=f(x)=x^3-\\frac{1}{x}$ 和在其$x=1$处切线的图像\n",
    "$$\n",
    "f\\prime\\left( x \\right) =3x^2+\\frac{1}{x^2}\n",
    "$$\n",
    "当$(1,0)$时的切线斜率为$k=4$,故切线为$4x-4$"
   ],
   "id": "cc6a5e4e110110fe"
  },
  {
   "metadata": {
    "ExecuteTime": {
     "end_time": "2025-07-24T08:28:23.332628Z",
     "start_time": "2025-07-24T08:28:23.259188Z"
    }
   },
   "cell_type": "code",
   "source": [
    "x = np.arange(0.1, 3, 0.1)\n",
    "def function(x):\n",
    "    return x**3-1/x\n",
    "plot(x, [function(x), 4 * x - 4], 'x', 'f(x)', legend=['f(x)', 'Tangent line (x=1)'])"
   ],
   "id": "3e225962dcdcc443",
   "outputs": [
    {
     "data": {
      "text/plain": [
       "<Figure size 350x250 with 1 Axes>"
      ],
      "image/svg+xml": "<?xml version=\"1.0\" encoding=\"utf-8\" standalone=\"no\"?>\n<!DOCTYPE svg PUBLIC \"-//W3C//DTD SVG 1.1//EN\"\n  \"http://www.w3.org/Graphics/SVG/1.1/DTD/svg11.dtd\">\n<svg xmlns:xlink=\"http://www.w3.org/1999/xlink\" width=\"252.127699pt\" height=\"183.35625pt\" viewBox=\"0 0 252.127699 183.35625\" xmlns=\"http://www.w3.org/2000/svg\" version=\"1.1\">\n <metadata>\n  <rdf:RDF xmlns:dc=\"http://purl.org/dc/elements/1.1/\" xmlns:cc=\"http://creativecommons.org/ns#\" xmlns:rdf=\"http://www.w3.org/1999/02/22-rdf-syntax-ns#\">\n   <cc:Work>\n    <dc:type rdf:resource=\"http://purl.org/dc/dcmitype/StillImage\"/>\n    <dc:date>2025-07-24T16:28:23.313692</dc:date>\n    <dc:format>image/svg+xml</dc:format>\n    <dc:creator>\n     <cc:Agent>\n      <dc:title>Matplotlib v3.10.3, https://matplotlib.org/</dc:title>\n     </cc:Agent>\n    </dc:creator>\n   </cc:Work>\n  </rdf:RDF>\n </metadata>\n <defs>\n  <style type=\"text/css\">*{stroke-linejoin: round; stroke-linecap: butt}</style>\n </defs>\n <g id=\"figure_1\">\n  <g id=\"patch_1\">\n   <path d=\"M -0 183.35625 \nL 252.127699 183.35625 \nL 252.127699 0 \nL -0 0 \nz\n\" style=\"fill: #ffffff\"/>\n  </g>\n  <g id=\"axes_1\">\n   <g id=\"patch_2\">\n    <path d=\"M 48.982813 145.8 \nL 244.282813 145.8 \nL 244.282813 7.2 \nL 48.982813 7.2 \nz\n\" style=\"fill: #ffffff\"/>\n   </g>\n   <g id=\"matplotlib.axis_1\">\n    <g id=\"xtick_1\">\n     <g id=\"line2d_1\">\n      <path d=\"M 51.519176 145.8 \nL 51.519176 7.2 \n\" clip-path=\"url(#p83b4417a44)\" style=\"fill: none; stroke: #b0b0b0; stroke-width: 0.8; stroke-linecap: square\"/>\n     </g>\n     <g id=\"line2d_2\">\n      <defs>\n       <path id=\"mb4dd2ea2ce\" d=\"M 0 0 \nL 0 3.5 \n\" style=\"stroke: #000000; stroke-width: 0.8\"/>\n      </defs>\n      <g>\n       <use xlink:href=\"#mb4dd2ea2ce\" x=\"51.519176\" y=\"145.8\" style=\"stroke: #000000; stroke-width: 0.8\"/>\n      </g>\n     </g>\n     <g id=\"text_1\">\n      <!-- 0 -->\n      <g transform=\"translate(48.337926 160.398438) scale(0.1 -0.1)\">\n       <defs>\n        <path id=\"DejaVuSans-30\" d=\"M 2034 4250 \nQ 1547 4250 1301 3770 \nQ 1056 3291 1056 2328 \nQ 1056 1369 1301 889 \nQ 1547 409 2034 409 \nQ 2525 409 2770 889 \nQ 3016 1369 3016 2328 \nQ 3016 3291 2770 3770 \nQ 2525 4250 2034 4250 \nz\nM 2034 4750 \nQ 2819 4750 3233 4129 \nQ 3647 3509 3647 2328 \nQ 3647 1150 3233 529 \nQ 2819 -91 2034 -91 \nQ 1250 -91 836 529 \nQ 422 1150 422 2328 \nQ 422 3509 836 4129 \nQ 1250 4750 2034 4750 \nz\n\" transform=\"scale(0.015625)\"/>\n       </defs>\n       <use xlink:href=\"#DejaVuSans-30\"/>\n      </g>\n     </g>\n    </g>\n    <g id=\"xtick_2\">\n     <g id=\"line2d_3\">\n      <path d=\"M 114.928267 145.8 \nL 114.928267 7.2 \n\" clip-path=\"url(#p83b4417a44)\" style=\"fill: none; stroke: #b0b0b0; stroke-width: 0.8; stroke-linecap: square\"/>\n     </g>\n     <g id=\"line2d_4\">\n      <g>\n       <use xlink:href=\"#mb4dd2ea2ce\" x=\"114.928267\" y=\"145.8\" style=\"stroke: #000000; stroke-width: 0.8\"/>\n      </g>\n     </g>\n     <g id=\"text_2\">\n      <!-- 1 -->\n      <g transform=\"translate(111.747017 160.398438) scale(0.1 -0.1)\">\n       <defs>\n        <path id=\"DejaVuSans-31\" d=\"M 794 531 \nL 1825 531 \nL 1825 4091 \nL 703 3866 \nL 703 4441 \nL 1819 4666 \nL 2450 4666 \nL 2450 531 \nL 3481 531 \nL 3481 0 \nL 794 0 \nL 794 531 \nz\n\" transform=\"scale(0.015625)\"/>\n       </defs>\n       <use xlink:href=\"#DejaVuSans-31\"/>\n      </g>\n     </g>\n    </g>\n    <g id=\"xtick_3\">\n     <g id=\"line2d_5\">\n      <path d=\"M 178.337358 145.8 \nL 178.337358 7.2 \n\" clip-path=\"url(#p83b4417a44)\" style=\"fill: none; stroke: #b0b0b0; stroke-width: 0.8; stroke-linecap: square\"/>\n     </g>\n     <g id=\"line2d_6\">\n      <g>\n       <use xlink:href=\"#mb4dd2ea2ce\" x=\"178.337358\" y=\"145.8\" style=\"stroke: #000000; stroke-width: 0.8\"/>\n      </g>\n     </g>\n     <g id=\"text_3\">\n      <!-- 2 -->\n      <g transform=\"translate(175.156108 160.398438) scale(0.1 -0.1)\">\n       <defs>\n        <path id=\"DejaVuSans-32\" d=\"M 1228 531 \nL 3431 531 \nL 3431 0 \nL 469 0 \nL 469 531 \nQ 828 903 1448 1529 \nQ 2069 2156 2228 2338 \nQ 2531 2678 2651 2914 \nQ 2772 3150 2772 3378 \nQ 2772 3750 2511 3984 \nQ 2250 4219 1831 4219 \nQ 1534 4219 1204 4116 \nQ 875 4013 500 3803 \nL 500 4441 \nQ 881 4594 1212 4672 \nQ 1544 4750 1819 4750 \nQ 2544 4750 2975 4387 \nQ 3406 4025 3406 3419 \nQ 3406 3131 3298 2873 \nQ 3191 2616 2906 2266 \nQ 2828 2175 2409 1742 \nQ 1991 1309 1228 531 \nz\n\" transform=\"scale(0.015625)\"/>\n       </defs>\n       <use xlink:href=\"#DejaVuSans-32\"/>\n      </g>\n     </g>\n    </g>\n    <g id=\"xtick_4\">\n     <g id=\"line2d_7\">\n      <path d=\"M 241.746449 145.8 \nL 241.746449 7.2 \n\" clip-path=\"url(#p83b4417a44)\" style=\"fill: none; stroke: #b0b0b0; stroke-width: 0.8; stroke-linecap: square\"/>\n     </g>\n     <g id=\"line2d_8\">\n      <g>\n       <use xlink:href=\"#mb4dd2ea2ce\" x=\"241.746449\" y=\"145.8\" style=\"stroke: #000000; stroke-width: 0.8\"/>\n      </g>\n     </g>\n     <g id=\"text_4\">\n      <!-- 3 -->\n      <g transform=\"translate(238.565199 160.398438) scale(0.1 -0.1)\">\n       <defs>\n        <path id=\"DejaVuSans-33\" d=\"M 2597 2516 \nQ 3050 2419 3304 2112 \nQ 3559 1806 3559 1356 \nQ 3559 666 3084 287 \nQ 2609 -91 1734 -91 \nQ 1441 -91 1130 -33 \nQ 819 25 488 141 \nL 488 750 \nQ 750 597 1062 519 \nQ 1375 441 1716 441 \nQ 2309 441 2620 675 \nQ 2931 909 2931 1356 \nQ 2931 1769 2642 2001 \nQ 2353 2234 1838 2234 \nL 1294 2234 \nL 1294 2753 \nL 1863 2753 \nQ 2328 2753 2575 2939 \nQ 2822 3125 2822 3475 \nQ 2822 3834 2567 4026 \nQ 2313 4219 1838 4219 \nQ 1578 4219 1281 4162 \nQ 984 4106 628 3988 \nL 628 4550 \nQ 988 4650 1302 4700 \nQ 1616 4750 1894 4750 \nQ 2613 4750 3031 4423 \nQ 3450 4097 3450 3541 \nQ 3450 3153 3228 2886 \nQ 3006 2619 2597 2516 \nz\n\" transform=\"scale(0.015625)\"/>\n       </defs>\n       <use xlink:href=\"#DejaVuSans-33\"/>\n      </g>\n     </g>\n    </g>\n    <g id=\"text_5\">\n     <!-- x -->\n     <g transform=\"translate(143.673438 174.076563) scale(0.1 -0.1)\">\n      <defs>\n       <path id=\"DejaVuSans-78\" d=\"M 3513 3500 \nL 2247 1797 \nL 3578 0 \nL 2900 0 \nL 1881 1375 \nL 863 0 \nL 184 0 \nL 1544 1831 \nL 300 3500 \nL 978 3500 \nL 1906 2253 \nL 2834 3500 \nL 3513 3500 \nz\n\" transform=\"scale(0.015625)\"/>\n      </defs>\n      <use xlink:href=\"#DejaVuSans-78\"/>\n     </g>\n    </g>\n   </g>\n   <g id=\"matplotlib.axis_2\">\n    <g id=\"ytick_1\">\n     <g id=\"line2d_9\">\n      <path d=\"M 48.982813 139.503701 \nL 244.282813 139.503701 \n\" clip-path=\"url(#p83b4417a44)\" style=\"fill: none; stroke: #b0b0b0; stroke-width: 0.8; stroke-linecap: square\"/>\n     </g>\n     <g id=\"line2d_10\">\n      <defs>\n       <path id=\"m16d8f0917c\" d=\"M 0 0 \nL -3.5 0 \n\" style=\"stroke: #000000; stroke-width: 0.8\"/>\n      </defs>\n      <g>\n       <use xlink:href=\"#m16d8f0917c\" x=\"48.982813\" y=\"139.503701\" style=\"stroke: #000000; stroke-width: 0.8\"/>\n      </g>\n     </g>\n     <g id=\"text_6\">\n      <!-- −10 -->\n      <g transform=\"translate(20.878125 143.30292) scale(0.1 -0.1)\">\n       <defs>\n        <path id=\"DejaVuSans-2212\" d=\"M 678 2272 \nL 4684 2272 \nL 4684 1741 \nL 678 1741 \nL 678 2272 \nz\n\" transform=\"scale(0.015625)\"/>\n       </defs>\n       <use xlink:href=\"#DejaVuSans-2212\"/>\n       <use xlink:href=\"#DejaVuSans-31\" transform=\"translate(83.789062 0)\"/>\n       <use xlink:href=\"#DejaVuSans-30\" transform=\"translate(147.412109 0)\"/>\n      </g>\n     </g>\n    </g>\n    <g id=\"ytick_2\">\n     <g id=\"line2d_11\">\n      <path d=\"M 48.982813 102.491874 \nL 244.282813 102.491874 \n\" clip-path=\"url(#p83b4417a44)\" style=\"fill: none; stroke: #b0b0b0; stroke-width: 0.8; stroke-linecap: square\"/>\n     </g>\n     <g id=\"line2d_12\">\n      <g>\n       <use xlink:href=\"#m16d8f0917c\" x=\"48.982813\" y=\"102.491874\" style=\"stroke: #000000; stroke-width: 0.8\"/>\n      </g>\n     </g>\n     <g id=\"text_7\">\n      <!-- 0 -->\n      <g transform=\"translate(35.620313 106.291093) scale(0.1 -0.1)\">\n       <use xlink:href=\"#DejaVuSans-30\"/>\n      </g>\n     </g>\n    </g>\n    <g id=\"ytick_3\">\n     <g id=\"line2d_13\">\n      <path d=\"M 48.982813 65.480048 \nL 244.282813 65.480048 \n\" clip-path=\"url(#p83b4417a44)\" style=\"fill: none; stroke: #b0b0b0; stroke-width: 0.8; stroke-linecap: square\"/>\n     </g>\n     <g id=\"line2d_14\">\n      <g>\n       <use xlink:href=\"#m16d8f0917c\" x=\"48.982813\" y=\"65.480048\" style=\"stroke: #000000; stroke-width: 0.8\"/>\n      </g>\n     </g>\n     <g id=\"text_8\">\n      <!-- 10 -->\n      <g transform=\"translate(29.257813 69.279266) scale(0.1 -0.1)\">\n       <use xlink:href=\"#DejaVuSans-31\"/>\n       <use xlink:href=\"#DejaVuSans-30\" transform=\"translate(63.623047 0)\"/>\n      </g>\n     </g>\n    </g>\n    <g id=\"ytick_4\">\n     <g id=\"line2d_15\">\n      <path d=\"M 48.982813 28.468221 \nL 244.282813 28.468221 \n\" clip-path=\"url(#p83b4417a44)\" style=\"fill: none; stroke: #b0b0b0; stroke-width: 0.8; stroke-linecap: square\"/>\n     </g>\n     <g id=\"line2d_16\">\n      <g>\n       <use xlink:href=\"#m16d8f0917c\" x=\"48.982813\" y=\"28.468221\" style=\"stroke: #000000; stroke-width: 0.8\"/>\n      </g>\n     </g>\n     <g id=\"text_9\">\n      <!-- 20 -->\n      <g transform=\"translate(29.257813 32.26744) scale(0.1 -0.1)\">\n       <use xlink:href=\"#DejaVuSans-32\"/>\n       <use xlink:href=\"#DejaVuSans-30\" transform=\"translate(63.623047 0)\"/>\n      </g>\n     </g>\n    </g>\n    <g id=\"text_10\">\n     <!-- f(x) -->\n     <g transform=\"translate(14.798438 85.121094) rotate(-90) scale(0.1 -0.1)\">\n      <defs>\n       <path id=\"DejaVuSans-66\" d=\"M 2375 4863 \nL 2375 4384 \nL 1825 4384 \nQ 1516 4384 1395 4259 \nQ 1275 4134 1275 3809 \nL 1275 3500 \nL 2222 3500 \nL 2222 3053 \nL 1275 3053 \nL 1275 0 \nL 697 0 \nL 697 3053 \nL 147 3053 \nL 147 3500 \nL 697 3500 \nL 697 3744 \nQ 697 4328 969 4595 \nQ 1241 4863 1831 4863 \nL 2375 4863 \nz\n\" transform=\"scale(0.015625)\"/>\n       <path id=\"DejaVuSans-28\" d=\"M 1984 4856 \nQ 1566 4138 1362 3434 \nQ 1159 2731 1159 2009 \nQ 1159 1288 1364 580 \nQ 1569 -128 1984 -844 \nL 1484 -844 \nQ 1016 -109 783 600 \nQ 550 1309 550 2009 \nQ 550 2706 781 3412 \nQ 1013 4119 1484 4856 \nL 1984 4856 \nz\n\" transform=\"scale(0.015625)\"/>\n       <path id=\"DejaVuSans-29\" d=\"M 513 4856 \nL 1013 4856 \nQ 1481 4119 1714 3412 \nQ 1947 2706 1947 2009 \nQ 1947 1309 1714 600 \nQ 1481 -109 1013 -844 \nL 513 -844 \nQ 928 -128 1133 580 \nQ 1338 1288 1338 2009 \nQ 1338 2731 1133 3434 \nQ 928 4138 513 4856 \nz\n\" transform=\"scale(0.015625)\"/>\n      </defs>\n      <use xlink:href=\"#DejaVuSans-66\"/>\n      <use xlink:href=\"#DejaVuSans-28\" transform=\"translate(35.205078 0)\"/>\n      <use xlink:href=\"#DejaVuSans-78\" transform=\"translate(74.21875 0)\"/>\n      <use xlink:href=\"#DejaVuSans-29\" transform=\"translate(133.398438 0)\"/>\n     </g>\n    </g>\n   </g>\n   <g id=\"line2d_17\">\n    <path d=\"M 57.860085 139.5 \nL 64.200994 120.968178 \nL 70.541903 114.729218 \nL 76.882812 111.507955 \nL 83.223722 109.431592 \nL 89.564631 107.861057 \nL 95.90554 106.509773 \nL 102.246449 105.223347 \nL 108.587358 103.906137 \nL 114.928267 102.491874 \nL 121.269176 100.930312 \nL 127.610085 99.18055 \nL 133.950994 97.20744 \nL 140.291903 94.979531 \nL 146.632812 92.467838 \nL 152.973722 89.645069 \nL 159.314631 86.48513 \nL 165.65554 82.96279 \nL 171.996449 79.053453 \nL 178.337358 74.733004 \nL 184.678267 69.97769 \nL 191.019176 64.764037 \nL 197.360085 59.068795 \nL 203.700994 52.868885 \nL 210.041903 46.141368 \nL 216.382812 38.863419 \nL 222.723722 31.012304 \nL 229.064631 22.565363 \nL 235.40554 13.5 \n\" clip-path=\"url(#p83b4417a44)\" style=\"fill: none; stroke: #1f77b4; stroke-width: 1.5; stroke-linecap: square\"/>\n   </g>\n   <g id=\"line2d_18\">\n    <path d=\"M 57.860085 115.816132 \nL 64.200994 114.335659 \nL 70.541903 112.855186 \nL 76.882812 111.374713 \nL 83.223722 109.89424 \nL 89.564631 108.413767 \nL 95.90554 106.933294 \nL 102.246449 105.452821 \nL 108.587358 103.972347 \nL 114.928267 102.491874 \nL 121.269176 101.011401 \nL 127.610085 99.530928 \nL 133.950994 98.050455 \nL 140.291903 96.569982 \nL 146.632812 95.089509 \nL 152.973722 93.609036 \nL 159.314631 92.128563 \nL 165.65554 90.64809 \nL 171.996449 89.167617 \nL 178.337358 87.687144 \nL 184.678267 86.206671 \nL 191.019176 84.726198 \nL 197.360085 83.245724 \nL 203.700994 81.765251 \nL 210.041903 80.284778 \nL 216.382812 78.804305 \nL 222.723722 77.323832 \nL 229.064631 75.843359 \nL 235.40554 74.362886 \n\" clip-path=\"url(#p83b4417a44)\" style=\"fill: none; stroke-dasharray: 5.55,2.4; stroke-dashoffset: 0; stroke: #bf00bf; stroke-width: 1.5\"/>\n   </g>\n   <g id=\"patch_3\">\n    <path d=\"M 48.982813 145.8 \nL 48.982813 7.2 \n\" style=\"fill: none; stroke: #000000; stroke-width: 0.8; stroke-linejoin: miter; stroke-linecap: square\"/>\n   </g>\n   <g id=\"patch_4\">\n    <path d=\"M 244.282813 145.8 \nL 244.282813 7.2 \n\" style=\"fill: none; stroke: #000000; stroke-width: 0.8; stroke-linejoin: miter; stroke-linecap: square\"/>\n   </g>\n   <g id=\"patch_5\">\n    <path d=\"M 48.982813 145.8 \nL 244.282813 145.8 \n\" style=\"fill: none; stroke: #000000; stroke-width: 0.8; stroke-linejoin: miter; stroke-linecap: square\"/>\n   </g>\n   <g id=\"patch_6\">\n    <path d=\"M 48.982813 7.2 \nL 244.282813 7.2 \n\" style=\"fill: none; stroke: #000000; stroke-width: 0.8; stroke-linejoin: miter; stroke-linecap: square\"/>\n   </g>\n   <g id=\"legend_1\">\n    <g id=\"patch_7\">\n     <path d=\"M 55.982813 44.55625 \nL 180.532813 44.55625 \nQ 182.532813 44.55625 182.532813 42.55625 \nL 182.532813 14.2 \nQ 182.532813 12.2 180.532813 12.2 \nL 55.982813 12.2 \nQ 53.982813 12.2 53.982813 14.2 \nL 53.982813 42.55625 \nQ 53.982813 44.55625 55.982813 44.55625 \nz\n\" style=\"fill: #ffffff; opacity: 0.8; stroke: #cccccc; stroke-linejoin: miter\"/>\n    </g>\n    <g id=\"line2d_19\">\n     <path d=\"M 57.982813 20.298438 \nL 67.982813 20.298438 \nL 77.982813 20.298438 \n\" style=\"fill: none; stroke: #1f77b4; stroke-width: 1.5; stroke-linecap: square\"/>\n    </g>\n    <g id=\"text_11\">\n     <!-- f(x) -->\n     <g transform=\"translate(85.982813 23.798438) scale(0.1 -0.1)\">\n      <use xlink:href=\"#DejaVuSans-66\"/>\n      <use xlink:href=\"#DejaVuSans-28\" transform=\"translate(35.205078 0)\"/>\n      <use xlink:href=\"#DejaVuSans-78\" transform=\"translate(74.21875 0)\"/>\n      <use xlink:href=\"#DejaVuSans-29\" transform=\"translate(133.398438 0)\"/>\n     </g>\n    </g>\n    <g id=\"line2d_20\">\n     <path d=\"M 57.982813 34.976562 \nL 67.982813 34.976562 \nL 77.982813 34.976562 \n\" style=\"fill: none; stroke-dasharray: 5.55,2.4; stroke-dashoffset: 0; stroke: #bf00bf; stroke-width: 1.5\"/>\n    </g>\n    <g id=\"text_12\">\n     <!-- Tangent line (x=1) -->\n     <g transform=\"translate(85.982813 38.476562) scale(0.1 -0.1)\">\n      <defs>\n       <path id=\"DejaVuSans-54\" d=\"M -19 4666 \nL 3928 4666 \nL 3928 4134 \nL 2272 4134 \nL 2272 0 \nL 1638 0 \nL 1638 4134 \nL -19 4134 \nL -19 4666 \nz\n\" transform=\"scale(0.015625)\"/>\n       <path id=\"DejaVuSans-61\" d=\"M 2194 1759 \nQ 1497 1759 1228 1600 \nQ 959 1441 959 1056 \nQ 959 750 1161 570 \nQ 1363 391 1709 391 \nQ 2188 391 2477 730 \nQ 2766 1069 2766 1631 \nL 2766 1759 \nL 2194 1759 \nz\nM 3341 1997 \nL 3341 0 \nL 2766 0 \nL 2766 531 \nQ 2569 213 2275 61 \nQ 1981 -91 1556 -91 \nQ 1019 -91 701 211 \nQ 384 513 384 1019 \nQ 384 1609 779 1909 \nQ 1175 2209 1959 2209 \nL 2766 2209 \nL 2766 2266 \nQ 2766 2663 2505 2880 \nQ 2244 3097 1772 3097 \nQ 1472 3097 1187 3025 \nQ 903 2953 641 2809 \nL 641 3341 \nQ 956 3463 1253 3523 \nQ 1550 3584 1831 3584 \nQ 2591 3584 2966 3190 \nQ 3341 2797 3341 1997 \nz\n\" transform=\"scale(0.015625)\"/>\n       <path id=\"DejaVuSans-6e\" d=\"M 3513 2113 \nL 3513 0 \nL 2938 0 \nL 2938 2094 \nQ 2938 2591 2744 2837 \nQ 2550 3084 2163 3084 \nQ 1697 3084 1428 2787 \nQ 1159 2491 1159 1978 \nL 1159 0 \nL 581 0 \nL 581 3500 \nL 1159 3500 \nL 1159 2956 \nQ 1366 3272 1645 3428 \nQ 1925 3584 2291 3584 \nQ 2894 3584 3203 3211 \nQ 3513 2838 3513 2113 \nz\n\" transform=\"scale(0.015625)\"/>\n       <path id=\"DejaVuSans-67\" d=\"M 2906 1791 \nQ 2906 2416 2648 2759 \nQ 2391 3103 1925 3103 \nQ 1463 3103 1205 2759 \nQ 947 2416 947 1791 \nQ 947 1169 1205 825 \nQ 1463 481 1925 481 \nQ 2391 481 2648 825 \nQ 2906 1169 2906 1791 \nz\nM 3481 434 \nQ 3481 -459 3084 -895 \nQ 2688 -1331 1869 -1331 \nQ 1566 -1331 1297 -1286 \nQ 1028 -1241 775 -1147 \nL 775 -588 \nQ 1028 -725 1275 -790 \nQ 1522 -856 1778 -856 \nQ 2344 -856 2625 -561 \nQ 2906 -266 2906 331 \nL 2906 616 \nQ 2728 306 2450 153 \nQ 2172 0 1784 0 \nQ 1141 0 747 490 \nQ 353 981 353 1791 \nQ 353 2603 747 3093 \nQ 1141 3584 1784 3584 \nQ 2172 3584 2450 3431 \nQ 2728 3278 2906 2969 \nL 2906 3500 \nL 3481 3500 \nL 3481 434 \nz\n\" transform=\"scale(0.015625)\"/>\n       <path id=\"DejaVuSans-65\" d=\"M 3597 1894 \nL 3597 1613 \nL 953 1613 \nQ 991 1019 1311 708 \nQ 1631 397 2203 397 \nQ 2534 397 2845 478 \nQ 3156 559 3463 722 \nL 3463 178 \nQ 3153 47 2828 -22 \nQ 2503 -91 2169 -91 \nQ 1331 -91 842 396 \nQ 353 884 353 1716 \nQ 353 2575 817 3079 \nQ 1281 3584 2069 3584 \nQ 2775 3584 3186 3129 \nQ 3597 2675 3597 1894 \nz\nM 3022 2063 \nQ 3016 2534 2758 2815 \nQ 2500 3097 2075 3097 \nQ 1594 3097 1305 2825 \nQ 1016 2553 972 2059 \nL 3022 2063 \nz\n\" transform=\"scale(0.015625)\"/>\n       <path id=\"DejaVuSans-74\" d=\"M 1172 4494 \nL 1172 3500 \nL 2356 3500 \nL 2356 3053 \nL 1172 3053 \nL 1172 1153 \nQ 1172 725 1289 603 \nQ 1406 481 1766 481 \nL 2356 481 \nL 2356 0 \nL 1766 0 \nQ 1100 0 847 248 \nQ 594 497 594 1153 \nL 594 3053 \nL 172 3053 \nL 172 3500 \nL 594 3500 \nL 594 4494 \nL 1172 4494 \nz\n\" transform=\"scale(0.015625)\"/>\n       <path id=\"DejaVuSans-20\" transform=\"scale(0.015625)\"/>\n       <path id=\"DejaVuSans-6c\" d=\"M 603 4863 \nL 1178 4863 \nL 1178 0 \nL 603 0 \nL 603 4863 \nz\n\" transform=\"scale(0.015625)\"/>\n       <path id=\"DejaVuSans-69\" d=\"M 603 3500 \nL 1178 3500 \nL 1178 0 \nL 603 0 \nL 603 3500 \nz\nM 603 4863 \nL 1178 4863 \nL 1178 4134 \nL 603 4134 \nL 603 4863 \nz\n\" transform=\"scale(0.015625)\"/>\n       <path id=\"DejaVuSans-3d\" d=\"M 678 2906 \nL 4684 2906 \nL 4684 2381 \nL 678 2381 \nL 678 2906 \nz\nM 678 1631 \nL 4684 1631 \nL 4684 1100 \nL 678 1100 \nL 678 1631 \nz\n\" transform=\"scale(0.015625)\"/>\n      </defs>\n      <use xlink:href=\"#DejaVuSans-54\"/>\n      <use xlink:href=\"#DejaVuSans-61\" transform=\"translate(44.583984 0)\"/>\n      <use xlink:href=\"#DejaVuSans-6e\" transform=\"translate(105.863281 0)\"/>\n      <use xlink:href=\"#DejaVuSans-67\" transform=\"translate(169.242188 0)\"/>\n      <use xlink:href=\"#DejaVuSans-65\" transform=\"translate(232.71875 0)\"/>\n      <use xlink:href=\"#DejaVuSans-6e\" transform=\"translate(294.242188 0)\"/>\n      <use xlink:href=\"#DejaVuSans-74\" transform=\"translate(357.621094 0)\"/>\n      <use xlink:href=\"#DejaVuSans-20\" transform=\"translate(396.830078 0)\"/>\n      <use xlink:href=\"#DejaVuSans-6c\" transform=\"translate(428.617188 0)\"/>\n      <use xlink:href=\"#DejaVuSans-69\" transform=\"translate(456.400391 0)\"/>\n      <use xlink:href=\"#DejaVuSans-6e\" transform=\"translate(484.183594 0)\"/>\n      <use xlink:href=\"#DejaVuSans-65\" transform=\"translate(547.5625 0)\"/>\n      <use xlink:href=\"#DejaVuSans-20\" transform=\"translate(609.085938 0)\"/>\n      <use xlink:href=\"#DejaVuSans-28\" transform=\"translate(640.873047 0)\"/>\n      <use xlink:href=\"#DejaVuSans-78\" transform=\"translate(679.886719 0)\"/>\n      <use xlink:href=\"#DejaVuSans-3d\" transform=\"translate(739.066406 0)\"/>\n      <use xlink:href=\"#DejaVuSans-31\" transform=\"translate(822.855469 0)\"/>\n      <use xlink:href=\"#DejaVuSans-29\" transform=\"translate(886.478516 0)\"/>\n     </g>\n    </g>\n   </g>\n  </g>\n </g>\n <defs>\n  <clipPath id=\"p83b4417a44\">\n   <rect x=\"48.982813\" y=\"7.2\" width=\"195.3\" height=\"138.6\"/>\n  </clipPath>\n </defs>\n</svg>\n"
     },
     "metadata": {},
     "output_type": "display_data"
    }
   ],
   "execution_count": 17
  },
  {
   "metadata": {},
   "cell_type": "markdown",
   "source": [
    "2. 求函数$f(\\mathbf{x})=3x_1^2+5e^{x_2}$的梯度\n",
    "$$\n",
    "\\frac{\\partial f}{\\partial x}=\\left[ \\begin{array}{c}\n",
    "\t6x_1\\\\\n",
    "\t5e^{x_2}\\\\\n",
    "\\end{array} \\right] \n",
    "$$\n",
    "3. 函数 $f(\\mathbf{x}) = \\|\\mathbf{x}\\|_2$ 的梯度是什么？\n",
    "\n",
    "\n",
    "\n",
    "函数 $f(\\mathbf{x}) = \\|\\mathbf{x}\\|_2$ 表示向量 $\\mathbf{x}$ 的L2范数（或欧几里得范数）。假设 $\\mathbf{x} = [x_1, x_2, \\dots, x_n]^T$，我们可以将该函数重写为：\n",
    "$$\n",
    "f(\\mathbf{x}) = \\sqrt{x_1^2 + x_2^2 + \\dots + x_n^2} = \\left(\\sum_{i=1}^n x_i^2\\right)^{1/2}\n",
    "$$\n",
    "\n",
    "为了求梯度 $\\nabla f(\\mathbf{x})$，我们需要计算函数对每个分量 $x_k$ 的偏导数 $\\frac{\\partial f}{\\partial x_k}$。这里我们使用链式法则，令 $g(\\mathbf{x}) = \\sum_{i=1}^n x_i^2$，则 $f(\\mathbf{x}) = \\sqrt{g(\\mathbf{x})}$。\n",
    "\n",
    "$$\n",
    "\\frac{\\partial f}{\\partial x_k} = \\frac{d\\sqrt{g}}{dg} \\cdot \\frac{\\partial g}{\\partial x_k}\n",
    "$$\n",
    "其中：\n",
    "   $$\\frac{d\\sqrt{g}}{dg} = \\frac{1}{2\\sqrt{g}} = \\frac{1}{2\\sqrt{\\sum_{i=1}^n x_i^2}} = \\frac{1}{2\\|\\mathbf{x}\\|_2}$$\n",
    "   $$\\frac{\\partial g}{\\partial x_k} = \\frac{\\partial}{\\partial x_k} \\left(\\sum_{i=1}^n x_i^2\\right) = 2x_k$$\n",
    "\n",
    "将两部分相乘：\n",
    "$$\n",
    "\\frac{\\partial f}{\\partial x_k} = \\frac{1}{2\\|\\mathbf{x}\\|_2} \\cdot (2x_k) = \\frac{x_k}{\\|\\mathbf{x}\\|_2}\n",
    "$$\n",
    "\n",
    "将所有偏导数组合成梯度向量：\n",
    "$$\n",
    "\\nabla f(\\mathbf{x}) = \\begin{bmatrix}\n",
    "\\frac{x_1}{\\|\\mathbf{x}\\|_2} \\\\\n",
    "\\frac{x_2}{\\|\\mathbf{x}\\|_2} \\\\\n",
    "\\vdots \\\\\n",
    "\\frac{x_n}{\\|\\mathbf{x}\\|_2}\n",
    "\\end{bmatrix} = \\frac{1}{\\|\\mathbf{x}\\|_2} \\begin{bmatrix}\n",
    "x_1 \\\\\n",
    "x_2 \\\\\n",
    "\\vdots \\\\\n",
    "x_n\n",
    "\\end{bmatrix} = \\frac{\\mathbf{x}}{\\|\\mathbf{x}\\|_2}\n",
    "$$\n",
    "**结论**: L2范数的梯度是向量自身除以其L2范数，即其单位向量。\n",
    "\n",
    "**重要提示**: 当 $\\mathbf{x} = \\mathbf{0}$ 时，分母为零，函数在原点是不可微的。因此，这个梯度公式只在 $\\mathbf{x} \\neq \\mathbf{0}$ 时成立。\n",
    "\n",
    "4. 尝试写出函数 $u = f(x, y, z)$，其中 $x = x(a, b)$, $y = y(a, b)$, $z = z(a, b)$ 的链式法则\n",
    "\n",
    "\n",
    "这是一个典型的多元复合函数求导问题，其核心思想是 **全微分** 和 **链式法则**。最终变量 $u$ 的变化是由中间变量 $a$ 和 $b$ 引起的。我们要计算的是 $u$ 对 $a$ 和 $b$ 的偏导数，即 $\\frac{\\partial u}{\\partial a}$ 和 $\\frac{\\partial u}{\\partial b}$。\n",
    "\n",
    "变量之间的依赖关系可以看作一个计算图：\n",
    "$(a, b) \\rightarrow (x, y, z) \\rightarrow u$\n",
    "\n",
    "**1. 计算 $\\frac{\\partial u}{\\partial a}$**\n",
    "\n",
    "变量 $a$ 的微小变化 $\\Delta a$ 会通过 $x, y, z$ 三个路径影响最终的 $u$。我们需要将这三个路径带来的影响加起来。\n",
    "\n",
    "*   通过 $x$ 的路径: $a \\rightarrow x \\rightarrow u$。影响为 $\\frac{\\partial u}{\\partial x} \\frac{\\partial x}{\\partial a}$\n",
    "*   通过 $y$ 的路径: $a \\rightarrow y \\rightarrow u$。影响为 $\\frac{\\partial u}{\\partial y} \\frac{\\partial y}{\\partial a}$\n",
    "*   通过 $z$ 的路径: $a \\rightarrow z \\rightarrow u$。影响为 $\\frac{\\partial u}{\\partial z} \\frac{\\partial z}{\\partial a}$\n",
    "\n",
    "将它们相加，得到 $u$ 对 $a$ 的总偏导数：\n",
    "$$\n",
    "\\frac{\\partial u}{\\partial a} = \\frac{\\partial f}{\\partial x} \\frac{\\partial x}{\\partial a} + \\frac{\\partial f}{\\partial y} \\frac{\\partial y}{\\partial a} + \\frac{\\partial f}{\\partial z} \\frac{\\partial z}{\\partial a}\n",
    "$$\n",
    "\n",
    "**2. 计算 $\\frac{\\partial u}{\\partial b}$**\n",
    "\n",
    "同理，变量 $b$ 的变化也会通过三条路径影响 $u$：\n",
    "$$\n",
    "\\frac{\\partial u}{\\partial b} = \\frac{\\partial f}{\\partial x} \\frac{\\partial x}{\\partial b} + \\frac{\\partial f}{\\partial y} \\frac{\\partial y}{\\partial b} + \\frac{\\partial f}{\\partial z} \\frac{\\partial z}{\\partial b}\n",
    "$$\n",
    "\n",
    "这个法则正是深度学习中 **反向传播（Backpropagation）** 算法的数学核心。在神经网络中，$u$ 可以看作是损失函数，$a, b$ 是网络中较浅层的参数，而 $x, y, z$ 是较深层的激活值。计算损失函数对浅层参数的梯度，就需要沿着计算图从后往前、应用链式法则。\n",
    "\n",
    "- 向量/矩阵形式 (更深刻的理解)\n",
    "\n",
    "我们可以用雅可比矩阵（Jacobian Matrix）来更优雅地表示链式法则。\n",
    "\n",
    "*   定义 $u$ 对 $(x, y, z)$ 的梯度向量（一个 $1 \\times 3$ 的行向量或雅可比矩阵）:\n",
    "    $$\n",
    "    \\frac{\\partial u}{\\partial(x, y, z)} = \\begin{bmatrix} \\frac{\\partial f}{\\partial x} & \\frac{\\partial f}{\\partial y} & \\frac{\\partial f}{\\partial z} \\end{bmatrix}\n",
    "    $$\n",
    "*   定义 $(x, y, z)$ 对 $(a, b)$ 的雅可比矩阵（一个 $3 \\times 2$ 矩阵）:\n",
    "    $$\n",
    "    \\frac{\\partial (x, y, z)}{\\partial (a, b)} = \\begin{bmatrix}\n",
    "    \\frac{\\partial x}{\\partial a} & \\frac{\\partial x}{\\partial b} \\\\\n",
    "    \\frac{\\partial y}{\\partial a} & \\frac{\\partial y}{\\partial b} \\\\\n",
    "    \\frac{\\partial z}{\\partial a} & \\frac{\\partial z}{\\partial b}\n",
    "    \\end{bmatrix}\n",
    "    $$\n",
    "\n",
    "那么，$u$ 对 $(a, b)$ 的梯度向量可以通过矩阵乘法得到：\n",
    "$$\n",
    "\\frac{\\partial u}{\\partial (a, b)} = \\frac{\\partial u}{\\partial(x, y, z)} \\cdot \\frac{\\partial (x, y, z)}{\\partial (a, b)}\n",
    "$$\n",
    "$$\n",
    "\\begin{bmatrix} \\frac{\\partial u}{\\partial a} & \\frac{\\partial u}{\\partial b} \\end{bmatrix} =\n",
    "\\begin{bmatrix} \\frac{\\partial f}{\\partial x} & \\frac{\\partial f}{\\partial y} & \\frac{\\partial f}{\\partial z} \\end{bmatrix}\n",
    "\\begin{bmatrix}\n",
    "\\frac{\\partial x}{\\partial a} & \\frac{\\partial x}{\\partial b} \\\\\n",
    "\\frac{\\partial y}{\\partial a} & \\frac{\\partial y}{\\partial b} \\\\\n",
    "\\frac{\\partial z}{\\partial a} & \\frac{\\partial z}{\\partial b}\n",
    "\\end{bmatrix}\n",
    "$$\n",
    "执行这个矩阵乘法，你会发现得到的结果与前面分步推导的两个公式完全一致。这种向量化的视角在处理高维问题时尤其重要。"
   ],
   "id": "e38f1cba8ab81e5e"
  },
  {
   "metadata": {},
   "cell_type": "code",
   "outputs": [],
   "execution_count": null,
   "source": "",
   "id": "52a19d9f9206c4d5"
  }
 ],
 "metadata": {
  "kernelspec": {
   "display_name": "Python 3",
   "language": "python",
   "name": "python3"
  },
  "language_info": {
   "codemirror_mode": {
    "name": "ipython",
    "version": 2
   },
   "file_extension": ".py",
   "mimetype": "text/x-python",
   "name": "python",
   "nbconvert_exporter": "python",
   "pygments_lexer": "ipython2",
   "version": "2.7.6"
  }
 },
 "nbformat": 4,
 "nbformat_minor": 5
}
