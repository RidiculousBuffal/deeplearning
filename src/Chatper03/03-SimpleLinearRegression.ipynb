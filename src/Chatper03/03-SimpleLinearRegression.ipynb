{
 "cells": [
  {
   "metadata": {},
   "cell_type": "markdown",
   "source": [
    "# 线性回归简洁实现\n",
    "## 生成数据集"
   ],
   "id": "fab3489c22c1fdd0"
  },
  {
   "cell_type": "code",
   "id": "initial_id",
   "metadata": {
    "collapsed": true,
    "ExecuteTime": {
     "end_time": "2025-07-26T14:17:51.430841Z",
     "start_time": "2025-07-26T14:17:47.060765Z"
    }
   },
   "source": [
    "import numpy as np\n",
    "import torch\n",
    "from torch.utils import data\n",
    "from d2l import torch as d2l"
   ],
   "outputs": [],
   "execution_count": 1
  },
  {
   "metadata": {
    "ExecuteTime": {
     "end_time": "2025-07-26T14:18:52.059906Z",
     "start_time": "2025-07-26T14:18:52.055994Z"
    }
   },
   "cell_type": "code",
   "source": [
    "true_w = torch.tensor([2,-3.4])\n",
    "true_b = 4.2\n",
    "features,labels = d2l.synthetic_data(true_w, true_b,1000)"
   ],
   "id": "9dc5a90606bed6b",
   "outputs": [],
   "execution_count": 2
  },
  {
   "metadata": {},
   "cell_type": "markdown",
   "source": "## 读取数据集",
   "id": "547a5231b5d5d598"
  },
  {
   "metadata": {
    "ExecuteTime": {
     "end_time": "2025-07-26T14:19:47.137953Z",
     "start_time": "2025-07-26T14:19:47.134491Z"
    }
   },
   "cell_type": "code",
   "source": [
    "def load_array(data_arrays,batch_size,is_train=True):\n",
    "    dataset = data.TensorDataset(*data_arrays)\n",
    "    return data.DataLoader(dataset=dataset,batch_size=batch_size,shuffle=is_train)\n"
   ],
   "id": "c3751d066e01d537",
   "outputs": [],
   "execution_count": 3
  },
  {
   "metadata": {
    "ExecuteTime": {
     "end_time": "2025-07-26T14:20:08.880831Z",
     "start_time": "2025-07-26T14:20:08.876987Z"
    }
   },
   "cell_type": "code",
   "source": [
    "batch_size = 10\n",
    "data_iter = load_array((features,labels),batch_size)"
   ],
   "id": "bc1302117b87de35",
   "outputs": [],
   "execution_count": 4
  },
  {
   "metadata": {
    "ExecuteTime": {
     "end_time": "2025-07-26T14:20:19.743422Z",
     "start_time": "2025-07-26T14:20:19.735428Z"
    }
   },
   "cell_type": "code",
   "source": "next(iter(data_iter))",
   "id": "5f18c912fbf7a5f0",
   "outputs": [
    {
     "data": {
      "text/plain": [
       "[tensor([[ 0.1932,  1.1558],\n",
       "         [-0.6740,  0.9614],\n",
       "         [ 0.8903, -0.5210],\n",
       "         [ 0.2424,  0.0303],\n",
       "         [ 1.2942,  1.3548],\n",
       "         [ 1.1656, -0.2456],\n",
       "         [-0.9257, -2.0221],\n",
       "         [ 0.0904,  0.7035],\n",
       "         [ 0.1214,  0.4985],\n",
       "         [-0.7501, -0.2265]]),\n",
       " tensor([[ 0.6404],\n",
       "         [-0.4175],\n",
       "         [ 7.7404],\n",
       "         [ 4.5853],\n",
       "         [ 2.1898],\n",
       "         [ 7.3557],\n",
       "         [ 9.2150],\n",
       "         [ 1.9927],\n",
       "         [ 2.7529],\n",
       "         [ 3.4575]])]"
      ]
     },
     "execution_count": 5,
     "metadata": {},
     "output_type": "execute_result"
    }
   ],
   "execution_count": 5
  },
  {
   "metadata": {},
   "cell_type": "markdown",
   "source": "## 定义模型",
   "id": "d78e57fd093ff228"
  },
  {
   "metadata": {
    "ExecuteTime": {
     "end_time": "2025-07-26T14:21:02.512271Z",
     "start_time": "2025-07-26T14:21:02.508412Z"
    }
   },
   "cell_type": "code",
   "source": [
    "from torch import nn\n",
    "net = nn.Sequential(nn.Linear(2,1))"
   ],
   "id": "d039f798fe389b2a",
   "outputs": [],
   "execution_count": 6
  },
  {
   "metadata": {},
   "cell_type": "markdown",
   "source": "## 初始化模型参数",
   "id": "afa54fecdb15fe26"
  },
  {
   "metadata": {
    "ExecuteTime": {
     "end_time": "2025-07-26T14:21:49.608868Z",
     "start_time": "2025-07-26T14:21:49.604021Z"
    }
   },
   "cell_type": "code",
   "source": [
    "net[0].weight.data.normal_(0,0.01)\n",
    "net[0].bias.data.fill_(0)"
   ],
   "id": "3858ba1fabe31521",
   "outputs": [
    {
     "data": {
      "text/plain": [
       "tensor([0.])"
      ]
     },
     "execution_count": 7,
     "metadata": {},
     "output_type": "execute_result"
    }
   ],
   "execution_count": 7
  },
  {
   "metadata": {},
   "cell_type": "markdown",
   "source": "## 定义损失函数",
   "id": "49b66ef68341a262"
  },
  {
   "metadata": {
    "ExecuteTime": {
     "end_time": "2025-07-26T14:22:03.062631Z",
     "start_time": "2025-07-26T14:22:03.060142Z"
    }
   },
   "cell_type": "code",
   "source": "loss = nn.MSELoss()",
   "id": "6316b90a1da38006",
   "outputs": [],
   "execution_count": 8
  },
  {
   "metadata": {},
   "cell_type": "markdown",
   "source": "## 定义优化算法",
   "id": "ffd506453dae94d5"
  },
  {
   "metadata": {
    "ExecuteTime": {
     "end_time": "2025-07-26T14:23:27.491243Z",
     "start_time": "2025-07-26T14:23:27.487243Z"
    }
   },
   "cell_type": "code",
   "source": "trainer = torch.optim.SGD(net.parameters(), lr=0.03)",
   "id": "3eba899b2673ea89",
   "outputs": [],
   "execution_count": 9
  },
  {
   "metadata": {},
   "cell_type": "markdown",
   "source": "## 训练",
   "id": "9fbaf51c852e7ebd"
  },
  {
   "metadata": {
    "ExecuteTime": {
     "end_time": "2025-07-26T14:23:42.370760Z",
     "start_time": "2025-07-26T14:23:42.367760Z"
    }
   },
   "cell_type": "code",
   "source": "num_epoachs = 3",
   "id": "b26bb8ef42a71af0",
   "outputs": [],
   "execution_count": 10
  },
  {
   "metadata": {
    "ExecuteTime": {
     "end_time": "2025-07-26T14:24:09.105006Z",
     "start_time": "2025-07-26T14:24:08.993071Z"
    }
   },
   "cell_type": "code",
   "source": [
    "nums_epochs = 3\n",
    "for epoch in range(nums_epochs):\n",
    "    for X,y in data_iter:\n",
    "        l = loss(net(X),y)\n",
    "        trainer.zero_grad()\n",
    "        l.backward()\n",
    "        trainer.step()\n",
    "    l = loss(net(features),labels)\n",
    "    print(f'epoch {epoch}, loss {l}:f')"
   ],
   "id": "da5d3054aea6516d",
   "outputs": [
    {
     "name": "stdout",
     "output_type": "stream",
     "text": [
      "epoch 0, loss 0.00030293097370304167:f\n",
      "epoch 1, loss 9.988305100705475e-05:f\n",
      "epoch 2, loss 9.90265907603316e-05:f\n"
     ]
    }
   ],
   "execution_count": 11
  },
  {
   "metadata": {
    "ExecuteTime": {
     "end_time": "2025-07-26T14:25:05.518181Z",
     "start_time": "2025-07-26T14:25:05.512811Z"
    }
   },
   "cell_type": "code",
   "source": [
    "w = net[0].weight.data\n",
    "b = net[0].bias.data\n",
    "print('w的误差:',true_w-w.reshape(true_w.shape))\n",
    "print('b的误差:',true_b-b)"
   ],
   "id": "eee96d3ca4098a76",
   "outputs": [
    {
     "name": "stdout",
     "output_type": "stream",
     "text": [
      "w的误差: tensor([-0.0006,  0.0002])\n",
      "b的误差: tensor([0.0003])\n"
     ]
    }
   ],
   "execution_count": 13
  },
  {
   "metadata": {},
   "cell_type": "markdown",
   "source": [
    "# 练习\n",
    "\n",
    "1. 当将小批量的总损失（sum of losses）替换为小批量损失的平均值（average loss）时，需要如何调整学习率。\n",
    "\n",
    "\n",
    "\n",
    "*   **原理:** 梯度下降的更新规则是 $\\theta_{new} = \\theta_{old} - \\eta \\nabla L$，其中 $\\eta$ 是学习率。\n",
    "    *   如果使用**总损失** $L_{sum} = \\sum_{i=1}^N l_i$，则梯度为 $\\nabla L_{sum} = \\sum_{i=1}^N \\nabla l_i$。\n",
    "    *   如果使用**平均损失** $L_{avg} = \\frac{1}{N} \\sum_{i=1}^N l_i$，则梯度为 $\\nabla L_{avg} = \\frac{1}{N} \\sum_{i=1}^N \\nabla l_i$。\n",
    "    因此，$\\nabla L_{avg} = \\frac{1}{N} \\nabla L_{sum}$。\n",
    "\n",
    "*   **调整方法:**\n",
    "    *   如果你从使用**总损失**切换到使用**平均损失**，由于梯度的幅度减小了 $N$ 倍（其中 $N$ 是批次大小），为了保持相似的参数更新步长，你需要**提高学习率**。具体来说，新的学习率 $\\eta_{new}$ 大约是旧学习率 $\\eta_{old}$ 的 $N$ 倍（即 $\\eta_{new} \\approx N \\times \\eta_{old}$）。\n",
    "    *   反之，如果你从使用**平均损失**切换到使用**总损失**，你需要**降低学习率**。\n",
    "\n",
    "在实际深度学习训练中，通常使用平均损失（如 PyTorch 的 `nn.MSELoss()` 默认的 `reduction='mean'`）。这样做的好处是，学习率和正则化参数对批次大小的依赖性减小，有助于训练的稳定性。\n",
    "\n",
    "2. 查询框架和文档,看提供了哪些损失函数和初始化方法?用Huber损失代替原损失,即$ l(y, y') = \\begin{cases} \\frac{1}{2\\sigma}(y - y')^2 & \\text{if } |y - y'| \\leq \\sigma \\\\ |y - y'| - \\frac{\\sigma}{2} & \\text{if } |y - y'| > \\sigma \\end{cases} $\n",
    "*   **损失函数 (Loss Functions):**\n",
    "    PyTorch 的 `torch.nn` 模块提供了多种损失函数，适用于不同的任务：\n",
    "    *   **回归任务:**\n",
    "        *   `nn.MSELoss`: 均方误差，常用于线性回归。\n",
    "        *   `nn.L1Loss`: 平均绝对误差，对异常值更鲁棒。\n",
    "        *   `nn.SmoothL1Loss`: 结合了 MSE 和 L1 的优点。\n",
    "        *   `nn.HuberLoss`: 对异常值更加鲁棒，在小误差时表现为 MSE，在大误差时表现为 L1。\n",
    "    *   **分类任务:**\n",
    "        *   `nn.CrossEntropyLoss`: 交叉熵损失，常用于多分类问题。\n",
    "        *   `nn.BCEWithLogitsLoss`: 结合 Sigmoid 和 BCE loss，用于二分类问题。\n",
    "        *   `nn.NLLLoss`: 负对数似然损失。\n",
    "\n",
    "*   **初始化方法 (Initialization Methods):**\n",
    "    PyTorch 的 `torch.nn.init` 模块提供了多种参数初始化策略：\n",
    "    *   **常数初始化:** `nn.init.zeros_`, `nn.init.ones_`, `nn.init.constant_()`。\n",
    "    *   **随机初始化:** `nn.init.normal_()`, `nn.init.uniform_()`, `nn.init.xavier_uniform_()`, `nn.init.kaiming_normal_()` 等。这些方法有助于解决梯度消失或爆炸问题，并加速模型收敛。\n",
    "\n",
    "*   **Huber 损失:**\n",
    "    你提供的 Huber 损失定义为：\n",
    "    $$ l(y, y') = \\begin{cases} \\frac{1}{2\\sigma}(y - y')^2 & \\text{if } |y - y'| \\leq \\sigma \\\\ |y - y'| - \\frac{\\sigma}{2} & \\text{if } |y - y'| > \\sigma \\end{cases} $$\n",
    "    在 PyTorch 中，可以直接使用 `torch.nn.HuberLoss` 来实现，其中 `delta` 参数对应于公式中的 $\\sigma$：\n",
    "    ```python\n",
    "    import torch.nn as nn\n",
    "    # 假设 delta (sigma) 的值为 1.0\n",
    "    huber_loss = nn.HuberLoss(delta=1.0)\n",
    "    ```\n",
    "    `HuberLoss` 在 $|y - y'| \\leq \\delta$ 时使用二次方损失，在 $|y - y'| > \\delta$ 时使用线性损失，这使其对异常值比 MSE 更加鲁棒，同时保持了在零附近的平滑性。\n",
    "\n",
    "3. 如何访问线性回归的梯度\n",
    "\n",
    "在 PyTorch 中，当你对一个计算图执行 `.backward()` 操作后，模型的参数（如权重和偏置）的梯度会被自动计算并存储在各自的 `.grad` 属性中。\n",
    "\n",
    "对于线性回归模型中的第一个线性层 `net[0]`：\n",
    "\n",
    "*   **访问权重梯度:**\n",
    "    ```python\n",
    "    gradient_w = net[0].weight.grad\n",
    "    ```\n",
    "*   **访问偏置梯度:**\n",
    "    ```python\n",
    "    gradient_b = net[0].bias.grad\n",
    "    ```\n",
    "\n",
    "`gradient_w` 和 `gradient_b` 将是 `torch.Tensor` 对象，包含了模型参数关于损失函数的一阶导数。这些梯度值在优化器的 `step()` 方法中被用来更新模型参数。"
   ],
   "id": "bdef48933c392bee"
  },
  {
   "metadata": {},
   "cell_type": "code",
   "outputs": [],
   "execution_count": null,
   "source": "",
   "id": "da198b13523273c9"
  }
 ],
 "metadata": {
  "kernelspec": {
   "display_name": "Python 3",
   "language": "python",
   "name": "python3"
  },
  "language_info": {
   "codemirror_mode": {
    "name": "ipython",
    "version": 2
   },
   "file_extension": ".py",
   "mimetype": "text/x-python",
   "name": "python",
   "nbconvert_exporter": "python",
   "pygments_lexer": "ipython2",
   "version": "2.7.6"
  }
 },
 "nbformat": 4,
 "nbformat_minor": 5
}
