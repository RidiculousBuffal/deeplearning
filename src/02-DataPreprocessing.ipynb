{
 "cells": [
  {
   "metadata": {},
   "cell_type": "markdown",
   "source": "## 读取数据集",
   "id": "c6f00434bb7ddca7"
  },
  {
   "cell_type": "code",
   "id": "initial_id",
   "metadata": {
    "collapsed": true,
    "ExecuteTime": {
     "end_time": "2025-07-23T06:50:09.371491Z",
     "start_time": "2025-07-23T06:50:09.367656Z"
    }
   },
   "source": [
    "import os\n",
    "os.makedirs(os.path.join('..','data'), exist_ok=True)\n",
    "datafile = os.path.join('..','data','house_tiny.csv')"
   ],
   "outputs": [],
   "execution_count": 5
  },
  {
   "metadata": {
    "ExecuteTime": {
     "end_time": "2025-07-23T06:50:14.153915Z",
     "start_time": "2025-07-23T06:50:14.149746Z"
    }
   },
   "cell_type": "code",
   "source": [
    "\n",
    "with open(datafile, 'w') as f:\n",
    "    f.write('NumRooms,Alley,Price\\n') # 列名\n",
    "    f.write('NA,Pave,127500\\n') # 每行表示一个数据样本\n",
    "    f.write('2,NA,106000\\n')\n",
    "    f.write('4,NA,178100\\n')\n",
    "    f.write('NA,NA,140000\\n')"
   ],
   "id": "94eae32a33cb1ba5",
   "outputs": [],
   "execution_count": 6
  },
  {
   "metadata": {
    "ExecuteTime": {
     "end_time": "2025-07-23T06:50:15.654511Z",
     "start_time": "2025-07-23T06:50:15.651482Z"
    }
   },
   "cell_type": "code",
   "source": "import pandas as pd",
   "id": "e93cc5944e90fec8",
   "outputs": [],
   "execution_count": 7
  },
  {
   "metadata": {
    "ExecuteTime": {
     "end_time": "2025-07-23T06:50:16.374250Z",
     "start_time": "2025-07-23T06:50:16.354967Z"
    }
   },
   "cell_type": "code",
   "source": [
    "data = pd.read_csv(datafile)\n",
    "data"
   ],
   "id": "c94b9f484af3a40",
   "outputs": [
    {
     "data": {
      "text/plain": [
       "   NumRooms Alley   Price\n",
       "0       NaN  Pave  127500\n",
       "1       2.0   NaN  106000\n",
       "2       4.0   NaN  178100\n",
       "3       NaN   NaN  140000"
      ],
      "text/html": [
       "<div>\n",
       "<style scoped>\n",
       "    .dataframe tbody tr th:only-of-type {\n",
       "        vertical-align: middle;\n",
       "    }\n",
       "\n",
       "    .dataframe tbody tr th {\n",
       "        vertical-align: top;\n",
       "    }\n",
       "\n",
       "    .dataframe thead th {\n",
       "        text-align: right;\n",
       "    }\n",
       "</style>\n",
       "<table border=\"1\" class=\"dataframe\">\n",
       "  <thead>\n",
       "    <tr style=\"text-align: right;\">\n",
       "      <th></th>\n",
       "      <th>NumRooms</th>\n",
       "      <th>Alley</th>\n",
       "      <th>Price</th>\n",
       "    </tr>\n",
       "  </thead>\n",
       "  <tbody>\n",
       "    <tr>\n",
       "      <th>0</th>\n",
       "      <td>NaN</td>\n",
       "      <td>Pave</td>\n",
       "      <td>127500</td>\n",
       "    </tr>\n",
       "    <tr>\n",
       "      <th>1</th>\n",
       "      <td>2.0</td>\n",
       "      <td>NaN</td>\n",
       "      <td>106000</td>\n",
       "    </tr>\n",
       "    <tr>\n",
       "      <th>2</th>\n",
       "      <td>4.0</td>\n",
       "      <td>NaN</td>\n",
       "      <td>178100</td>\n",
       "    </tr>\n",
       "    <tr>\n",
       "      <th>3</th>\n",
       "      <td>NaN</td>\n",
       "      <td>NaN</td>\n",
       "      <td>140000</td>\n",
       "    </tr>\n",
       "  </tbody>\n",
       "</table>\n",
       "</div>"
      ]
     },
     "execution_count": 8,
     "metadata": {},
     "output_type": "execute_result"
    }
   ],
   "execution_count": 8
  },
  {
   "metadata": {},
   "cell_type": "markdown",
   "source": "## 处理缺失值",
   "id": "de100535758a88a5"
  },
  {
   "metadata": {
    "ExecuteTime": {
     "end_time": "2025-07-23T07:09:39.666869Z",
     "start_time": "2025-07-23T07:09:39.660109Z"
    }
   },
   "cell_type": "code",
   "source": [
    "inputs, outputs = data.iloc[:, 0:2], data.iloc[:, 2]\n",
    "inputs,outputs"
   ],
   "id": "58e5231f1efa5dd2",
   "outputs": [
    {
     "data": {
      "text/plain": [
       "(   NumRooms Alley\n",
       " 0       NaN  Pave\n",
       " 1       2.0   NaN\n",
       " 2       4.0   NaN\n",
       " 3       NaN   NaN,\n",
       " 0    127500\n",
       " 1    106000\n",
       " 2    178100\n",
       " 3    140000\n",
       " Name: Price, dtype: int64)"
      ]
     },
     "execution_count": 21,
     "metadata": {},
     "output_type": "execute_result"
    }
   ],
   "execution_count": 21
  },
  {
   "metadata": {
    "ExecuteTime": {
     "end_time": "2025-07-23T07:09:42.363857Z",
     "start_time": "2025-07-23T07:09:42.359483Z"
    }
   },
   "cell_type": "code",
   "source": [
    "import numpy as np\n",
    "\n",
    "# 找到所有的数值列\n",
    "numeric_cols = inputs.select_dtypes(include=np.number).columns\n",
    "numeric_cols"
   ],
   "id": "2d395a78e5630a02",
   "outputs": [
    {
     "data": {
      "text/plain": [
       "Index(['NumRooms'], dtype='object')"
      ]
     },
     "execution_count": 22,
     "metadata": {},
     "output_type": "execute_result"
    }
   ],
   "execution_count": 22
  },
  {
   "metadata": {
    "ExecuteTime": {
     "end_time": "2025-07-23T07:09:55.465103Z",
     "start_time": "2025-07-23T07:09:55.457103Z"
    }
   },
   "cell_type": "code",
   "source": [
    "inputs[numeric_cols] = inputs[numeric_cols].fillna(inputs[numeric_cols].mean())\n",
    "inputs"
   ],
   "id": "10175ec6de1339df",
   "outputs": [
    {
     "data": {
      "text/plain": [
       "   NumRooms Alley\n",
       "0       3.0  Pave\n",
       "1       2.0   NaN\n",
       "2       4.0   NaN\n",
       "3       3.0   NaN"
      ],
      "text/html": [
       "<div>\n",
       "<style scoped>\n",
       "    .dataframe tbody tr th:only-of-type {\n",
       "        vertical-align: middle;\n",
       "    }\n",
       "\n",
       "    .dataframe tbody tr th {\n",
       "        vertical-align: top;\n",
       "    }\n",
       "\n",
       "    .dataframe thead th {\n",
       "        text-align: right;\n",
       "    }\n",
       "</style>\n",
       "<table border=\"1\" class=\"dataframe\">\n",
       "  <thead>\n",
       "    <tr style=\"text-align: right;\">\n",
       "      <th></th>\n",
       "      <th>NumRooms</th>\n",
       "      <th>Alley</th>\n",
       "    </tr>\n",
       "  </thead>\n",
       "  <tbody>\n",
       "    <tr>\n",
       "      <th>0</th>\n",
       "      <td>3.0</td>\n",
       "      <td>Pave</td>\n",
       "    </tr>\n",
       "    <tr>\n",
       "      <th>1</th>\n",
       "      <td>2.0</td>\n",
       "      <td>NaN</td>\n",
       "    </tr>\n",
       "    <tr>\n",
       "      <th>2</th>\n",
       "      <td>4.0</td>\n",
       "      <td>NaN</td>\n",
       "    </tr>\n",
       "    <tr>\n",
       "      <th>3</th>\n",
       "      <td>3.0</td>\n",
       "      <td>NaN</td>\n",
       "    </tr>\n",
       "  </tbody>\n",
       "</table>\n",
       "</div>"
      ]
     },
     "execution_count": 24,
     "metadata": {},
     "output_type": "execute_result"
    }
   ],
   "execution_count": 24
  },
  {
   "metadata": {},
   "cell_type": "markdown",
   "source": [
    "`pd.get_dummies()` 的工作方式非常直观。它会：\n",
    "\n",
    "- 找到指定列中的所有唯一类别。\n",
    "- 为每一个类别创建一个新的列。\n",
    "- 如果原始数据中的某一行属于这个类别，那么在新列中对应行的值就为 1，否则为 0。 (新版本中`dtype=bool`是默认行为)"
   ],
   "id": "addf625babbd6280"
  },
  {
   "metadata": {
    "ExecuteTime": {
     "end_time": "2025-07-23T07:10:05.331205Z",
     "start_time": "2025-07-23T07:10:05.324746Z"
    }
   },
   "cell_type": "code",
   "source": [
    "inputs = pd.get_dummies(inputs,dummy_na=True,dtype='int')\n",
    "print(inputs)"
   ],
   "id": "3c9d03bf468eea15",
   "outputs": [
    {
     "name": "stdout",
     "output_type": "stream",
     "text": [
      "   NumRooms  Alley_Pave  Alley_nan\n",
      "0       3.0           1          0\n",
      "1       2.0           0          1\n",
      "2       4.0           0          1\n",
      "3       3.0           0          1\n"
     ]
    }
   ],
   "execution_count": 25
  },
  {
   "metadata": {},
   "cell_type": "markdown",
   "source": "## 转换为张量格式",
   "id": "5106b074078783f9"
  },
  {
   "metadata": {
    "ExecuteTime": {
     "end_time": "2025-07-23T07:14:04.654322Z",
     "start_time": "2025-07-23T07:14:04.644214Z"
    }
   },
   "cell_type": "code",
   "source": [
    "import torch\n",
    "X = torch.tensor(inputs.to_numpy(dtype=float))\n",
    "y = torch.tensor(outputs.to_numpy(dtype=float))\n",
    "X,y"
   ],
   "id": "9b3fb642eca07d83",
   "outputs": [
    {
     "data": {
      "text/plain": [
       "(tensor([[3., 1., 0.],\n",
       "         [2., 0., 1.],\n",
       "         [4., 0., 1.],\n",
       "         [3., 0., 1.]], dtype=torch.float64),\n",
       " tensor([127500., 106000., 178100., 140000.], dtype=torch.float64))"
      ]
     },
     "execution_count": 27,
     "metadata": {},
     "output_type": "execute_result"
    }
   ],
   "execution_count": 27
  },
  {
   "metadata": {},
   "cell_type": "markdown",
   "source": "## 删除缺失值最多的单元",
   "id": "9ff009ed1a36f3f9"
  },
  {
   "metadata": {
    "ExecuteTime": {
     "end_time": "2025-07-23T07:15:56.563534Z",
     "start_time": "2025-07-23T07:15:56.555931Z"
    }
   },
   "cell_type": "code",
   "source": [
    "import pandas as pd\n",
    "import numpy as np\n",
    "\n",
    "# 1. 创建数据\n",
    "# 我们用一个字典来创建 DataFrame，其中 np.nan 代表缺失值。\n",
    "data = {\n",
    "    '学生ID': [101, 102, 103, 104, 105, 106, 107],\n",
    "    '性别': ['男', '女', '女', '男', '男', np.nan, '女'], # 缺失 1 个\n",
    "    '年龄': [18, 19, 18, 20, 19, 19, 18],              # 缺失 0 个\n",
    "    '成绩': [85, 92, 78, np.nan, 88, 95, np.nan],       # 缺失 2 个\n",
    "    '兴趣爱好': ['篮球', np.nan, '阅读', np.nan, np.nan, '音乐', np.nan] # 缺失 4 个\n",
    "}\n",
    "\n",
    "df = pd.DataFrame(data)\n",
    "\n",
    "print(\"--- 步骤 1: 原始的 DataFrame ---\")\n",
    "print(df)"
   ],
   "id": "bb09aac329df770c",
   "outputs": [
    {
     "name": "stdout",
     "output_type": "stream",
     "text": [
      "--- 步骤 1: 原始的 DataFrame ---\n",
      "   学生ID   性别  年龄    成绩 兴趣爱好\n",
      "0   101    男  18  85.0   篮球\n",
      "1   102    女  19  92.0  NaN\n",
      "2   103    女  18  78.0   阅读\n",
      "3   104    男  20   NaN  NaN\n",
      "4   105    男  19  88.0  NaN\n",
      "5   106  NaN  19  95.0   音乐\n",
      "6   107    女  18   NaN  NaN\n"
     ]
    }
   ],
   "execution_count": 28
  },
  {
   "metadata": {
    "ExecuteTime": {
     "end_time": "2025-07-23T07:16:15.182389Z",
     "start_time": "2025-07-23T07:16:15.177392Z"
    }
   },
   "cell_type": "code",
   "source": [
    "# 2. 计算每列的缺失值总数\n",
    "missing_counts = df.isnull().sum()\n",
    "\n",
    "print(\"\\n--- 步骤 2: 每列的缺失值数量 ---\")\n",
    "print(missing_counts)"
   ],
   "id": "cbf84ce561412490",
   "outputs": [
    {
     "name": "stdout",
     "output_type": "stream",
     "text": [
      "\n",
      "--- 步骤 2: 每列的缺失值数量 ---\n",
      "学生ID    0\n",
      "性别      1\n",
      "年龄      0\n",
      "成绩      2\n",
      "兴趣爱好    4\n",
      "dtype: int64\n"
     ]
    }
   ],
   "execution_count": 29
  },
  {
   "metadata": {
    "ExecuteTime": {
     "end_time": "2025-07-23T07:16:53.720746Z",
     "start_time": "2025-07-23T07:16:53.716512Z"
    }
   },
   "cell_type": "code",
   "source": [
    "# 3. 找到缺失值最多的列的名称\n",
    "col_to_drop = missing_counts.idxmax()\n",
    "\n",
    "print(\"\\n--- 步骤 3: 准备删除的列 ---\")\n",
    "print(f\"缺失值最多的列是: '{col_to_drop}'，共有 {missing_counts.max()} 个缺失值。\")"
   ],
   "id": "62f742118de0c08b",
   "outputs": [
    {
     "name": "stdout",
     "output_type": "stream",
     "text": [
      "\n",
      "--- 步骤 3: 准备删除的列 ---\n",
      "缺失值最多的列是: '兴趣爱好'，共有 4 个缺失值。\n"
     ]
    }
   ],
   "execution_count": 30
  },
  {
   "metadata": {
    "ExecuteTime": {
     "end_time": "2025-07-23T07:16:58.271188Z",
     "start_time": "2025-07-23T07:16:58.264832Z"
    }
   },
   "cell_type": "code",
   "source": [
    "# 4. 删除找到的列\n",
    "df_cleaned = df.drop(columns=[col_to_drop])\n",
    "\n",
    "print(\"\\n--- 步骤 4: 删除后的 DataFrame ---\")\n",
    "print(df_cleaned)"
   ],
   "id": "e585277a2b0ab366",
   "outputs": [
    {
     "name": "stdout",
     "output_type": "stream",
     "text": [
      "\n",
      "--- 步骤 4: 删除后的 DataFrame ---\n",
      "   学生ID   性别  年龄    成绩\n",
      "0   101    男  18  85.0\n",
      "1   102    女  19  92.0\n",
      "2   103    女  18  78.0\n",
      "3   104    男  20   NaN\n",
      "4   105    男  19  88.0\n",
      "5   106  NaN  19  95.0\n",
      "6   107    女  18   NaN\n"
     ]
    }
   ],
   "execution_count": 31
  },
  {
   "metadata": {},
   "cell_type": "code",
   "outputs": [],
   "execution_count": null,
   "source": "",
   "id": "320eaaa7e45ed512"
  }
 ],
 "metadata": {
  "kernelspec": {
   "display_name": "Python 3",
   "language": "python",
   "name": "python3"
  },
  "language_info": {
   "codemirror_mode": {
    "name": "ipython",
    "version": 2
   },
   "file_extension": ".py",
   "mimetype": "text/x-python",
   "name": "python",
   "nbconvert_exporter": "python",
   "pygments_lexer": "ipython2",
   "version": "2.7.6"
  }
 },
 "nbformat": 4,
 "nbformat_minor": 5
}
