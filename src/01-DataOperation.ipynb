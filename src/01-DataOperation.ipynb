{
 "cells": [
  {
   "metadata": {},
   "cell_type": "markdown",
   "source": [
    "# 数据操作\n",
    "## 入门"
   ],
   "id": "fd1a396c32b840fe"
  },
  {
   "metadata": {
    "ExecuteTime": {
     "end_time": "2025-07-21T06:08:49.709945Z",
     "start_time": "2025-07-21T06:08:49.706702Z"
    }
   },
   "cell_type": "code",
   "source": "import torch",
   "id": "2b72647fcfe9a0ab",
   "outputs": [],
   "execution_count": 5
  },
  {
   "metadata": {
    "ExecuteTime": {
     "end_time": "2025-07-21T06:09:15.107922Z",
     "start_time": "2025-07-21T06:09:15.100891Z"
    }
   },
   "cell_type": "code",
   "source": [
    "#张量\n",
    "x = torch.arange(12)\n",
    "x"
   ],
   "id": "4585dafc3d6a4dd4",
   "outputs": [
    {
     "data": {
      "text/plain": [
       "tensor([ 0,  1,  2,  3,  4,  5,  6,  7,  8,  9, 10, 11])"
      ]
     },
     "execution_count": 7,
     "metadata": {},
     "output_type": "execute_result"
    }
   ],
   "execution_count": 7
  },
  {
   "metadata": {
    "ExecuteTime": {
     "end_time": "2025-07-21T06:09:27.857260Z",
     "start_time": "2025-07-21T06:09:27.853257Z"
    }
   },
   "cell_type": "code",
   "source": "x.shape",
   "id": "ba77b199616a71c9",
   "outputs": [
    {
     "data": {
      "text/plain": [
       "torch.Size([12])"
      ]
     },
     "execution_count": 8,
     "metadata": {},
     "output_type": "execute_result"
    }
   ],
   "execution_count": 8
  },
  {
   "metadata": {},
   "cell_type": "markdown",
   "source": "`torch.numel()` 函数在 `PyTorch` 中用于返回张量（`tensor`）中元素的总数。 “`numel`” 是 “`number of elements`” 的缩写。 这是一个非常直接且常用的函数，无论张量的维度和形状如何，它都能计算出其包含的元素总量。",
   "id": "ea8f29ba4e6ee391"
  },
  {
   "metadata": {
    "ExecuteTime": {
     "end_time": "2025-07-21T06:09:34.242503Z",
     "start_time": "2025-07-21T06:09:34.238454Z"
    }
   },
   "cell_type": "code",
   "source": "x.numel()",
   "id": "72ceb5a6172af7fa",
   "outputs": [
    {
     "data": {
      "text/plain": [
       "12"
      ]
     },
     "execution_count": 9,
     "metadata": {},
     "output_type": "execute_result"
    }
   ],
   "execution_count": 9
  },
  {
   "metadata": {
    "ExecuteTime": {
     "end_time": "2025-07-21T06:14:01.019750Z",
     "start_time": "2025-07-21T06:14:01.014739Z"
    }
   },
   "cell_type": "code",
   "source": [
    "a = torch.randn(3,4,5)\n",
    "print(a)\n",
    "print(torch.numel(a))"
   ],
   "id": "3d55e678ace93be6",
   "outputs": [
    {
     "name": "stdout",
     "output_type": "stream",
     "text": [
      "tensor([[[-0.8993,  0.1742, -1.0669,  0.8057,  1.6334],\n",
      "         [-1.4314,  0.5190, -0.7845,  1.4581, -1.2370],\n",
      "         [-1.7109, -1.1460, -0.4439,  1.2577,  0.5577],\n",
      "         [ 1.6739, -2.0033, -0.6388,  0.9141, -0.2859]],\n",
      "\n",
      "        [[ 0.3324, -1.4445,  0.5483,  0.2540, -0.5385],\n",
      "         [-1.6381, -0.3854, -1.9881, -0.7307, -0.4182],\n",
      "         [-1.9368, -0.4709, -1.2271,  1.0843,  0.7250],\n",
      "         [-0.6483,  1.6873,  1.8091,  0.1716, -1.7271]],\n",
      "\n",
      "        [[-0.4745,  0.2260,  0.5525,  1.5142, -0.1269],\n",
      "         [-0.0301,  0.0693,  0.2105,  0.6392,  0.3694],\n",
      "         [ 1.3641, -1.6293, -2.4540, -1.1857,  0.5656],\n",
      "         [-0.7967, -0.4917, -0.8445, -0.4807,  0.2793]]])\n",
      "60\n"
     ]
    }
   ],
   "execution_count": 12
  },
  {
   "metadata": {
    "ExecuteTime": {
     "end_time": "2025-07-21T06:16:22.867055Z",
     "start_time": "2025-07-21T06:16:22.861623Z"
    }
   },
   "cell_type": "code",
   "source": [
    "X = x.reshape(3,4)\n",
    "X"
   ],
   "id": "24967a44c4fc4448",
   "outputs": [
    {
     "data": {
      "text/plain": [
       "tensor([[ 0,  1,  2,  3],\n",
       "        [ 4,  5,  6,  7],\n",
       "        [ 8,  9, 10, 11]])"
      ]
     },
     "execution_count": 17,
     "metadata": {},
     "output_type": "execute_result"
    }
   ],
   "execution_count": 17
  },
  {
   "metadata": {
    "ExecuteTime": {
     "end_time": "2025-07-21T06:16:32.203684Z",
     "start_time": "2025-07-21T06:16:32.198420Z"
    }
   },
   "cell_type": "code",
   "source": [
    "X_ = x.reshape(3,-1) #用-1自动推导\n",
    "X_"
   ],
   "id": "4705d3c320b94b7d",
   "outputs": [
    {
     "data": {
      "text/plain": [
       "tensor([[ 0,  1,  2,  3],\n",
       "        [ 4,  5,  6,  7],\n",
       "        [ 8,  9, 10, 11]])"
      ]
     },
     "execution_count": 18,
     "metadata": {},
     "output_type": "execute_result"
    }
   ],
   "execution_count": 18
  },
  {
   "metadata": {
    "ExecuteTime": {
     "end_time": "2025-07-21T06:17:19.420744Z",
     "start_time": "2025-07-21T06:17:19.415955Z"
    }
   },
   "cell_type": "code",
   "source": "torch.zeros(3,4)",
   "id": "aef11a9a05833f1",
   "outputs": [
    {
     "data": {
      "text/plain": [
       "tensor([[0., 0., 0., 0.],\n",
       "        [0., 0., 0., 0.],\n",
       "        [0., 0., 0., 0.]])"
      ]
     },
     "execution_count": 19,
     "metadata": {},
     "output_type": "execute_result"
    }
   ],
   "execution_count": 19
  },
  {
   "metadata": {
    "ExecuteTime": {
     "end_time": "2025-07-21T06:17:24.946889Z",
     "start_time": "2025-07-21T06:17:24.941890Z"
    }
   },
   "cell_type": "code",
   "source": "torch.ones(3,4)",
   "id": "d12347dc8b114527",
   "outputs": [
    {
     "data": {
      "text/plain": [
       "tensor([[1., 1., 1., 1.],\n",
       "        [1., 1., 1., 1.],\n",
       "        [1., 1., 1., 1.]])"
      ]
     },
     "execution_count": 20,
     "metadata": {},
     "output_type": "execute_result"
    }
   ],
   "execution_count": 20
  },
  {
   "metadata": {
    "ExecuteTime": {
     "end_time": "2025-07-21T06:17:49.629538Z",
     "start_time": "2025-07-21T06:17:49.624164Z"
    }
   },
   "cell_type": "code",
   "source": [
    "# 正态分布\n",
    "torch.randn(3,4)"
   ],
   "id": "963a03717923bb06",
   "outputs": [
    {
     "data": {
      "text/plain": [
       "tensor([[-0.5790,  1.8698,  0.6541, -0.0435],\n",
       "        [ 0.7829,  0.0089,  1.9323,  0.2683],\n",
       "        [-0.1407,  0.4052,  1.4851, -0.2203]])"
      ]
     },
     "execution_count": 21,
     "metadata": {},
     "output_type": "execute_result"
    }
   ],
   "execution_count": 21
  },
  {
   "metadata": {
    "ExecuteTime": {
     "end_time": "2025-07-21T06:18:17.914328Z",
     "start_time": "2025-07-21T06:18:17.907331Z"
    }
   },
   "cell_type": "code",
   "source": "torch.tensor([[2,1,4,3],[1,2,3,4],[4,3,2,1]])",
   "id": "3af7315d30e8cd5d",
   "outputs": [
    {
     "data": {
      "text/plain": [
       "tensor([[2, 1, 4, 3],\n",
       "        [1, 2, 3, 4],\n",
       "        [4, 3, 2, 1]])"
      ]
     },
     "execution_count": 22,
     "metadata": {},
     "output_type": "execute_result"
    }
   ],
   "execution_count": 22
  },
  {
   "metadata": {},
   "cell_type": "markdown",
   "source": "## 运算符",
   "id": "32c59ca43caf0ee8"
  },
  {
   "metadata": {
    "ExecuteTime": {
     "end_time": "2025-07-21T06:20:35.111034Z",
     "start_time": "2025-07-21T06:20:35.104036Z"
    }
   },
   "cell_type": "code",
   "source": [
    "x = torch.tensor([1.0,2,4,8])\n",
    "y = torch.tensor([2,  2,2,2])\n",
    "x+y,x-y,x*y,x/y,x**y"
   ],
   "id": "ceaac1553b51cbc4",
   "outputs": [
    {
     "data": {
      "text/plain": [
       "(tensor([ 3.,  4.,  6., 10.]),\n",
       " tensor([-1.,  0.,  2.,  6.]),\n",
       " tensor([ 2.,  4.,  8., 16.]),\n",
       " tensor([0.5000, 1.0000, 2.0000, 4.0000]),\n",
       " tensor([ 1.,  4., 16., 64.]))"
      ]
     },
     "execution_count": 26,
     "metadata": {},
     "output_type": "execute_result"
    }
   ],
   "execution_count": 26
  },
  {
   "metadata": {
    "ExecuteTime": {
     "end_time": "2025-07-21T06:21:23.258558Z",
     "start_time": "2025-07-21T06:21:23.253130Z"
    }
   },
   "cell_type": "code",
   "source": "torch.exp(x)",
   "id": "faa9c65e69b7ea5c",
   "outputs": [
    {
     "data": {
      "text/plain": [
       "tensor([2.7183e+00, 7.3891e+00, 5.4598e+01, 2.9810e+03])"
      ]
     },
     "execution_count": 27,
     "metadata": {},
     "output_type": "execute_result"
    }
   ],
   "execution_count": 27
  },
  {
   "metadata": {
    "ExecuteTime": {
     "end_time": "2025-07-21T06:25:48.445879Z",
     "start_time": "2025-07-21T06:25:48.439954Z"
    }
   },
   "cell_type": "code",
   "source": [
    "X = torch.arange(12,dtype=torch.float32).reshape(3,4)\n",
    "Y = torch.tensor([[2.0,1,4,3],[1,2,3,4],[4,3,2,1]])\n",
    "X,Y"
   ],
   "id": "e346d768260edf47",
   "outputs": [
    {
     "data": {
      "text/plain": [
       "(tensor([[ 0.,  1.,  2.,  3.],\n",
       "         [ 4.,  5.,  6.,  7.],\n",
       "         [ 8.,  9., 10., 11.]]),\n",
       " tensor([[2., 1., 4., 3.],\n",
       "         [1., 2., 3., 4.],\n",
       "         [4., 3., 2., 1.]]))"
      ]
     },
     "execution_count": 29,
     "metadata": {},
     "output_type": "execute_result"
    }
   ],
   "execution_count": 29
  },
  {
   "metadata": {
    "ExecuteTime": {
     "end_time": "2025-07-21T06:26:07.130093Z",
     "start_time": "2025-07-21T06:26:07.125092Z"
    }
   },
   "cell_type": "code",
   "source": "torch.cat((X,Y),dim=0)",
   "id": "bdb843dafe78ecfd",
   "outputs": [
    {
     "data": {
      "text/plain": [
       "tensor([[ 0.,  1.,  2.,  3.],\n",
       "        [ 4.,  5.,  6.,  7.],\n",
       "        [ 8.,  9., 10., 11.],\n",
       "        [ 2.,  1.,  4.,  3.],\n",
       "        [ 1.,  2.,  3.,  4.],\n",
       "        [ 4.,  3.,  2.,  1.]])"
      ]
     },
     "execution_count": 30,
     "metadata": {},
     "output_type": "execute_result"
    }
   ],
   "execution_count": 30
  },
  {
   "metadata": {
    "ExecuteTime": {
     "end_time": "2025-07-21T06:26:57.641444Z",
     "start_time": "2025-07-21T06:26:57.635227Z"
    }
   },
   "cell_type": "code",
   "source": "torch.cat((X,Y),dim=1)",
   "id": "6e2b439c77b4622c",
   "outputs": [
    {
     "data": {
      "text/plain": [
       "tensor([[ 0.,  1.,  2.,  3.,  2.,  1.,  4.,  3.],\n",
       "        [ 4.,  5.,  6.,  7.,  1.,  2.,  3.,  4.],\n",
       "        [ 8.,  9., 10., 11.,  4.,  3.,  2.,  1.]])"
      ]
     },
     "execution_count": 31,
     "metadata": {},
     "output_type": "execute_result"
    }
   ],
   "execution_count": 31
  },
  {
   "metadata": {
    "ExecuteTime": {
     "end_time": "2025-07-21T06:27:11.235492Z",
     "start_time": "2025-07-21T06:27:11.230487Z"
    }
   },
   "cell_type": "code",
   "source": "X==Y",
   "id": "5460d72ff7214d82",
   "outputs": [
    {
     "data": {
      "text/plain": [
       "tensor([[False,  True, False,  True],\n",
       "        [False, False, False, False],\n",
       "        [False, False, False, False]])"
      ]
     },
     "execution_count": 32,
     "metadata": {},
     "output_type": "execute_result"
    }
   ],
   "execution_count": 32
  },
  {
   "metadata": {
    "ExecuteTime": {
     "end_time": "2025-07-21T06:29:11.836248Z",
     "start_time": "2025-07-21T06:29:11.829249Z"
    }
   },
   "cell_type": "code",
   "source": "X.sum(),X.sum(dim=0),X.sum(dim=1)",
   "id": "19b4f1c87c826bff",
   "outputs": [
    {
     "data": {
      "text/plain": [
       "(tensor(66.), tensor([12., 15., 18., 21.]), tensor([ 6., 22., 38.]))"
      ]
     },
     "execution_count": 34,
     "metadata": {},
     "output_type": "execute_result"
    }
   ],
   "execution_count": 34
  },
  {
   "metadata": {},
   "cell_type": "markdown",
   "source": "## 广播机制",
   "id": "cb150444822191e5"
  },
  {
   "metadata": {
    "ExecuteTime": {
     "end_time": "2025-07-21T06:32:20.293562Z",
     "start_time": "2025-07-21T06:32:20.290184Z"
    }
   },
   "cell_type": "code",
   "source": [
    "a = torch.arange(3).reshape(3,1)\n",
    "b = torch.arange(2).reshape(1,2)"
   ],
   "id": "423bb2c45f97d975",
   "outputs": [],
   "execution_count": 35
  },
  {
   "metadata": {
    "ExecuteTime": {
     "end_time": "2025-07-21T06:32:23.587520Z",
     "start_time": "2025-07-21T06:32:23.582435Z"
    }
   },
   "cell_type": "code",
   "source": "a,b",
   "id": "662311fdd0dd8749",
   "outputs": [
    {
     "data": {
      "text/plain": [
       "(tensor([[0],\n",
       "         [1],\n",
       "         [2]]),\n",
       " tensor([[0, 1]]))"
      ]
     },
     "execution_count": 36,
     "metadata": {},
     "output_type": "execute_result"
    }
   ],
   "execution_count": 36
  },
  {
   "metadata": {
    "ExecuteTime": {
     "end_time": "2025-07-21T06:32:26.314377Z",
     "start_time": "2025-07-21T06:32:26.308864Z"
    }
   },
   "cell_type": "code",
   "source": "a+b",
   "id": "4871d12264869c52",
   "outputs": [
    {
     "data": {
      "text/plain": [
       "tensor([[0, 1],\n",
       "        [1, 2],\n",
       "        [2, 3]])"
      ]
     },
     "execution_count": 37,
     "metadata": {},
     "output_type": "execute_result"
    }
   ],
   "execution_count": 37
  },
  {
   "metadata": {},
   "cell_type": "markdown",
   "source": "## 索引&切片",
   "id": "10b039fbd08ef59c"
  },
  {
   "metadata": {
    "ExecuteTime": {
     "end_time": "2025-07-21T06:35:40.461904Z",
     "start_time": "2025-07-21T06:35:40.456838Z"
    }
   },
   "cell_type": "code",
   "source": "X",
   "id": "1dbceca07810fe3d",
   "outputs": [
    {
     "data": {
      "text/plain": [
       "tensor([[ 0.,  1.,  2.,  3.],\n",
       "        [ 4.,  5.,  6.,  7.],\n",
       "        [ 8.,  9., 10., 11.]])"
      ]
     },
     "execution_count": 38,
     "metadata": {},
     "output_type": "execute_result"
    }
   ],
   "execution_count": 38
  },
  {
   "metadata": {
    "ExecuteTime": {
     "end_time": "2025-07-21T06:35:44.255581Z",
     "start_time": "2025-07-21T06:35:44.250564Z"
    }
   },
   "cell_type": "code",
   "source": "X[-1]",
   "id": "13e1da44ed52b0e8",
   "outputs": [
    {
     "data": {
      "text/plain": [
       "tensor([ 8.,  9., 10., 11.])"
      ]
     },
     "execution_count": 39,
     "metadata": {},
     "output_type": "execute_result"
    }
   ],
   "execution_count": 39
  },
  {
   "metadata": {
    "ExecuteTime": {
     "end_time": "2025-07-21T06:35:51.091434Z",
     "start_time": "2025-07-21T06:35:51.087234Z"
    }
   },
   "cell_type": "code",
   "source": "X[1:3]",
   "id": "7b31111da69afce5",
   "outputs": [
    {
     "data": {
      "text/plain": [
       "tensor([[ 4.,  5.,  6.,  7.],\n",
       "        [ 8.,  9., 10., 11.]])"
      ]
     },
     "execution_count": 40,
     "metadata": {},
     "output_type": "execute_result"
    }
   ],
   "execution_count": 40
  },
  {
   "metadata": {
    "ExecuteTime": {
     "end_time": "2025-07-21T06:36:38.365357Z",
     "start_time": "2025-07-21T06:36:38.359092Z"
    }
   },
   "cell_type": "code",
   "source": [
    "X[1,2]=9\n",
    "X"
   ],
   "id": "65118a992aedd966",
   "outputs": [
    {
     "data": {
      "text/plain": [
       "tensor([[ 0.,  1.,  2.,  3.],\n",
       "        [ 4.,  5.,  9.,  7.],\n",
       "        [ 8.,  9., 10., 11.]])"
      ]
     },
     "execution_count": 41,
     "metadata": {},
     "output_type": "execute_result"
    }
   ],
   "execution_count": 41
  },
  {
   "metadata": {
    "ExecuteTime": {
     "end_time": "2025-07-21T06:37:00.574894Z",
     "start_time": "2025-07-21T06:37:00.569893Z"
    }
   },
   "cell_type": "code",
   "source": [
    "X[0:2,:]=12\n",
    "X"
   ],
   "id": "99aa505840960137",
   "outputs": [
    {
     "data": {
      "text/plain": [
       "tensor([[12., 12., 12., 12.],\n",
       "        [12., 12., 12., 12.],\n",
       "        [ 8.,  9., 10., 11.]])"
      ]
     },
     "execution_count": 42,
     "metadata": {},
     "output_type": "execute_result"
    }
   ],
   "execution_count": 42
  },
  {
   "metadata": {},
   "cell_type": "markdown",
   "source": "## 节省内存",
   "id": "634f0d34edb5a219"
  },
  {
   "metadata": {
    "ExecuteTime": {
     "end_time": "2025-07-21T06:38:26.411909Z",
     "start_time": "2025-07-21T06:38:26.406590Z"
    }
   },
   "cell_type": "code",
   "source": "Y",
   "id": "e6555c6e75823713",
   "outputs": [
    {
     "data": {
      "text/plain": [
       "tensor([[2., 1., 4., 3.],\n",
       "        [1., 2., 3., 4.],\n",
       "        [4., 3., 2., 1.]])"
      ]
     },
     "execution_count": 43,
     "metadata": {},
     "output_type": "execute_result"
    }
   ],
   "execution_count": 43
  },
  {
   "metadata": {
    "ExecuteTime": {
     "end_time": "2025-07-21T06:38:38.689662Z",
     "start_time": "2025-07-21T06:38:38.685246Z"
    }
   },
   "cell_type": "code",
   "source": [
    "before = id(Y)\n",
    "before"
   ],
   "id": "7117e3f127f7fcf6",
   "outputs": [
    {
     "data": {
      "text/plain": [
       "2492322812112"
      ]
     },
     "execution_count": 45,
     "metadata": {},
     "output_type": "execute_result"
    }
   ],
   "execution_count": 45
  },
  {
   "metadata": {
    "ExecuteTime": {
     "end_time": "2025-07-21T06:38:49.144074Z",
     "start_time": "2025-07-21T06:38:49.139879Z"
    }
   },
   "cell_type": "code",
   "source": [
    "Y = Y+X\n",
    "id(Y)"
   ],
   "id": "950e27b3dad3b9f",
   "outputs": [
    {
     "data": {
      "text/plain": [
       "2492329182704"
      ]
     },
     "execution_count": 46,
     "metadata": {},
     "output_type": "execute_result"
    }
   ],
   "execution_count": 46
  },
  {
   "metadata": {
    "ExecuteTime": {
     "end_time": "2025-07-21T06:40:06.003944Z",
     "start_time": "2025-07-21T06:40:05.998948Z"
    }
   },
   "cell_type": "code",
   "source": [
    "Z = torch.zeros_like(Y)\n",
    "print(\"id(Z):\",id(Z))\n",
    "Z[:]=X+Y\n",
    "print(\"id(Z):\",id(Z))"
   ],
   "id": "d6bb5e07d0efc76d",
   "outputs": [
    {
     "name": "stdout",
     "output_type": "stream",
     "text": [
      "id(Z): 2492329268848\n",
      "id(Z): 2492329268848\n"
     ]
    }
   ],
   "execution_count": 47
  },
  {
   "metadata": {
    "ExecuteTime": {
     "end_time": "2025-07-21T06:40:16.263533Z",
     "start_time": "2025-07-21T06:40:16.258536Z"
    }
   },
   "cell_type": "code",
   "source": [
    "before = id(X)\n",
    "before"
   ],
   "id": "3309867fa2dc228c",
   "outputs": [
    {
     "data": {
      "text/plain": [
       "2492322812496"
      ]
     },
     "execution_count": 48,
     "metadata": {},
     "output_type": "execute_result"
    }
   ],
   "execution_count": 48
  },
  {
   "metadata": {
    "ExecuteTime": {
     "end_time": "2025-07-21T06:40:19.688487Z",
     "start_time": "2025-07-21T06:40:19.684606Z"
    }
   },
   "cell_type": "code",
   "source": "X+=Y",
   "id": "7dcd690b809091e3",
   "outputs": [],
   "execution_count": 49
  },
  {
   "metadata": {
    "ExecuteTime": {
     "end_time": "2025-07-21T06:40:23.465487Z",
     "start_time": "2025-07-21T06:40:23.461039Z"
    }
   },
   "cell_type": "code",
   "source": "id(X)",
   "id": "44a6c07e87041a48",
   "outputs": [
    {
     "data": {
      "text/plain": [
       "2492322812496"
      ]
     },
     "execution_count": 50,
     "metadata": {},
     "output_type": "execute_result"
    }
   ],
   "execution_count": 50
  },
  {
   "metadata": {},
   "cell_type": "markdown",
   "source": "## 转换为其他python对象",
   "id": "7711f1e6a4d2034"
  },
  {
   "metadata": {
    "ExecuteTime": {
     "end_time": "2025-07-21T06:41:52.434410Z",
     "start_time": "2025-07-21T06:41:52.429449Z"
    }
   },
   "cell_type": "code",
   "source": [
    "A = x.numpy()\n",
    "B = torch.tensor(A)\n",
    "type(A),type(B)"
   ],
   "id": "6758d70e8ef7bdc7",
   "outputs": [
    {
     "data": {
      "text/plain": [
       "(numpy.ndarray, torch.Tensor)"
      ]
     },
     "execution_count": 51,
     "metadata": {},
     "output_type": "execute_result"
    }
   ],
   "execution_count": 51
  },
  {
   "metadata": {
    "ExecuteTime": {
     "end_time": "2025-07-21T06:42:25.787131Z",
     "start_time": "2025-07-21T06:42:25.781822Z"
    }
   },
   "cell_type": "code",
   "source": [
    "a = torch.tensor([3.5])\n",
    "a,a.item(),float(a),int(a)"
   ],
   "id": "19c9854c9e7ece32",
   "outputs": [
    {
     "data": {
      "text/plain": [
       "(tensor([3.5000]), 3.5, 3.5, 3)"
      ]
     },
     "execution_count": 53,
     "metadata": {},
     "output_type": "execute_result"
    }
   ],
   "execution_count": 53
  },
  {
   "metadata": {
    "ExecuteTime": {
     "end_time": "2025-07-21T06:42:55.073651Z",
     "start_time": "2025-07-21T06:42:55.067481Z"
    }
   },
   "cell_type": "code",
   "source": "X,Y",
   "id": "2f9c16685eb8ea8f",
   "outputs": [
    {
     "data": {
      "text/plain": [
       "(tensor([[26., 25., 28., 27.],\n",
       "         [25., 26., 27., 28.],\n",
       "         [20., 21., 22., 23.]]),\n",
       " tensor([[14., 13., 16., 15.],\n",
       "         [13., 14., 15., 16.],\n",
       "         [12., 12., 12., 12.]]))"
      ]
     },
     "execution_count": 54,
     "metadata": {},
     "output_type": "execute_result"
    }
   ],
   "execution_count": 54
  },
  {
   "metadata": {
    "ExecuteTime": {
     "end_time": "2025-07-21T06:43:05.641699Z",
     "start_time": "2025-07-21T06:43:05.636704Z"
    }
   },
   "cell_type": "code",
   "source": "X == Y,X>Y,X<Y",
   "id": "381183cc87a36cdb",
   "outputs": [
    {
     "data": {
      "text/plain": [
       "(tensor([[False, False, False, False],\n",
       "         [False, False, False, False],\n",
       "         [False, False, False, False]]),\n",
       " tensor([[True, True, True, True],\n",
       "         [True, True, True, True],\n",
       "         [True, True, True, True]]),\n",
       " tensor([[False, False, False, False],\n",
       "         [False, False, False, False],\n",
       "         [False, False, False, False]]))"
      ]
     },
     "execution_count": 55,
     "metadata": {},
     "output_type": "execute_result"
    }
   ],
   "execution_count": 55
  },
  {
   "metadata": {},
   "cell_type": "markdown",
   "source": [
    "## 广播机制\n",
    "广播的核心规则\n",
    "> 当对两个张量进行运算时，PyTorch 会从尾部维度开始比较它们的形状。广播机制能够成功执行，需要满足以下两个条件之一：\n",
    "\n",
    "- 两个张量在当前维度上的大小相等。\n",
    "- 其中一个张量在当前维度上的大小为 1。\n",
    "如果这两个条件都不满足，系统就会报错。"
   ],
   "id": "e8532a3c7572919d"
  },
  {
   "metadata": {
    "ExecuteTime": {
     "end_time": "2025-07-21T06:51:33.775196Z",
     "start_time": "2025-07-21T06:51:33.769176Z"
    }
   },
   "cell_type": "code",
   "source": [
    "import torch\n",
    "\n",
    "# 创建一个 2x3x4 的三维张量\n",
    "X = torch.arange(24).reshape(2, 3, 4)\n",
    "\n",
    "print(\"原始张量 X 的形状:\", X.shape)\n",
    "print(\"原始张量 X:\\n\", X)"
   ],
   "id": "2d9f9dc07ee48dc7",
   "outputs": [
    {
     "name": "stdout",
     "output_type": "stream",
     "text": [
      "原始张量 X 的形状: torch.Size([2, 3, 4])\n",
      "原始张量 X:\n",
      " tensor([[[ 0,  1,  2,  3],\n",
      "         [ 4,  5,  6,  7],\n",
      "         [ 8,  9, 10, 11]],\n",
      "\n",
      "        [[12, 13, 14, 15],\n",
      "         [16, 17, 18, 19],\n",
      "         [20, 21, 22, 23]]])\n"
     ]
    }
   ],
   "execution_count": 56
  },
  {
   "metadata": {
    "ExecuteTime": {
     "end_time": "2025-07-21T06:51:48.987519Z",
     "start_time": "2025-07-21T06:51:48.982292Z"
    }
   },
   "cell_type": "code",
   "source": [
    "# 创建一个标量\n",
    "scalar = 100\n",
    "\n",
    "# 运算\n",
    "result = X + scalar\n",
    "\n",
    "print(\"结果张量的形状:\", result.shape)\n",
    "print(\"结果张量:\\n\", result)"
   ],
   "id": "bc915594b85073ad",
   "outputs": [
    {
     "name": "stdout",
     "output_type": "stream",
     "text": [
      "结果张量的形状: torch.Size([2, 3, 4])\n",
      "结果张量:\n",
      " tensor([[[100, 101, 102, 103],\n",
      "         [104, 105, 106, 107],\n",
      "         [108, 109, 110, 111]],\n",
      "\n",
      "        [[112, 113, 114, 115],\n",
      "         [116, 117, 118, 119],\n",
      "         [120, 121, 122, 123]]])\n"
     ]
    }
   ],
   "execution_count": 57
  },
  {
   "metadata": {
    "ExecuteTime": {
     "end_time": "2025-07-21T07:21:01.464421Z",
     "start_time": "2025-07-21T07:21:01.458510Z"
    }
   },
   "cell_type": "code",
   "source": [
    "# 创建一个 2x1x4 的张量\n",
    "Y = torch.arange(8).reshape(2, 1, 4) * 10\n",
    "\n",
    "print(\"张量 Y 的形状:\", Y.shape)\n",
    "print(\"张量 Y:\\n\", Y)\n",
    "print(\"张量 X 的形状:\", X.shape)\n",
    "print(\"张量 X:\\n\", X)\n",
    "\n",
    "# 运算\n",
    "result = X + Y\n",
    "print(\"\\n结果张量的形状:\", result.shape)\n",
    "print(\"结果张量:\\n\", result)"
   ],
   "id": "a6e183d2adef8a63",
   "outputs": [
    {
     "name": "stdout",
     "output_type": "stream",
     "text": [
      "张量 Y 的形状: torch.Size([2, 1, 4])\n",
      "张量 Y:\n",
      " tensor([[[ 0, 10, 20, 30]],\n",
      "\n",
      "        [[40, 50, 60, 70]]])\n",
      "张量 X 的形状: torch.Size([2, 3, 4])\n",
      "张量 X:\n",
      " tensor([[[ 0,  1,  2,  3],\n",
      "         [ 4,  5,  6,  7],\n",
      "         [ 8,  9, 10, 11]],\n",
      "\n",
      "        [[12, 13, 14, 15],\n",
      "         [16, 17, 18, 19],\n",
      "         [20, 21, 22, 23]]])\n",
      "\n",
      "结果张量的形状: torch.Size([2, 3, 4])\n",
      "结果张量:\n",
      " tensor([[[ 0, 11, 22, 33],\n",
      "         [ 4, 15, 26, 37],\n",
      "         [ 8, 19, 30, 41]],\n",
      "\n",
      "        [[52, 63, 74, 85],\n",
      "         [56, 67, 78, 89],\n",
      "         [60, 71, 82, 93]]])\n"
     ]
    }
   ],
   "execution_count": 59
  },
  {
   "metadata": {
    "ExecuteTime": {
     "end_time": "2025-07-21T07:25:27.333801Z",
     "start_time": "2025-07-21T07:25:27.327800Z"
    }
   },
   "cell_type": "code",
   "source": [
    "# 创建一个形状不兼容的张量 (2, 3, 2)，注意最后一个维度是 2，不是 4 也不是 1\n",
    "Y_fail = torch.randn(2, 3, 2)\n",
    "\n",
    "try:\n",
    "    result = X + Y_fail\n",
    "except RuntimeError as e:\n",
    "    print(\"广播失败，错误信息:\")\n",
    "    print(e)"
   ],
   "id": "16fffc87d2e928ce",
   "outputs": [
    {
     "name": "stdout",
     "output_type": "stream",
     "text": [
      "广播失败，错误信息:\n",
      "The size of tensor a (4) must match the size of tensor b (2) at non-singleton dimension 2\n"
     ]
    }
   ],
   "execution_count": 60
  },
  {
   "metadata": {},
   "cell_type": "code",
   "outputs": [],
   "execution_count": null,
   "source": "",
   "id": "61f477c60eb2db28"
  }
 ],
 "metadata": {
  "kernelspec": {
   "display_name": "Python 3",
   "language": "python",
   "name": "python3"
  },
  "language_info": {
   "codemirror_mode": {
    "name": "ipython",
    "version": 2
   },
   "file_extension": ".py",
   "mimetype": "text/x-python",
   "name": "python",
   "nbconvert_exporter": "python",
   "pygments_lexer": "ipython2",
   "version": "2.7.6"
  }
 },
 "nbformat": 4,
 "nbformat_minor": 5
}
